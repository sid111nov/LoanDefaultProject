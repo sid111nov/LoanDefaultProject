{
  "cells": [
    {
      "cell_type": "markdown",
      "metadata": {
        "id": "view-in-github",
        "colab_type": "text"
      },
      "source": [
        "<a href=\"https://colab.research.google.com/github/sid111nov/LoanDefaultProject/blob/main/Loan_Default_DL_Modeling.ipynb\" target=\"_parent\"><img src=\"https://colab.research.google.com/assets/colab-badge.svg\" alt=\"Open In Colab\"/></a>"
      ]
    },
    {
      "cell_type": "code",
      "execution_count": null,
      "metadata": {
        "colab": {
          "base_uri": "https://localhost:8080/"
        },
        "id": "sfT1vmM56mZD",
        "outputId": "9dac249b-a25d-451b-e7be-c3a3fff65b52"
      },
      "outputs": [
        {
          "name": "stdout",
          "output_type": "stream",
          "text": [
            "Requirement already satisfied: mlflow in /usr/local/lib/python3.10/dist-packages (2.15.1)\n",
            "Requirement already satisfied: mlflow-skinny==2.15.1 in /usr/local/lib/python3.10/dist-packages (from mlflow) (2.15.1)\n",
            "Requirement already satisfied: Flask<4 in /usr/local/lib/python3.10/dist-packages (from mlflow) (2.2.5)\n",
            "Requirement already satisfied: alembic!=1.10.0,<2 in /usr/local/lib/python3.10/dist-packages (from mlflow) (1.13.2)\n",
            "Requirement already satisfied: docker<8,>=4.0.0 in /usr/local/lib/python3.10/dist-packages (from mlflow) (7.1.0)\n",
            "Requirement already satisfied: graphene<4 in /usr/local/lib/python3.10/dist-packages (from mlflow) (3.3)\n",
            "Requirement already satisfied: markdown<4,>=3.3 in /usr/local/lib/python3.10/dist-packages (from mlflow) (3.6)\n",
            "Requirement already satisfied: matplotlib<4 in /usr/local/lib/python3.10/dist-packages (from mlflow) (3.7.1)\n",
            "Requirement already satisfied: numpy<2 in /usr/local/lib/python3.10/dist-packages (from mlflow) (1.26.4)\n",
            "Requirement already satisfied: pandas<3 in /usr/local/lib/python3.10/dist-packages (from mlflow) (2.1.4)\n",
            "Requirement already satisfied: pyarrow<16,>=4.0.0 in /usr/local/lib/python3.10/dist-packages (from mlflow) (14.0.2)\n",
            "Requirement already satisfied: querystring-parser<2 in /usr/local/lib/python3.10/dist-packages (from mlflow) (1.2.4)\n",
            "Requirement already satisfied: scikit-learn<2 in /usr/local/lib/python3.10/dist-packages (from mlflow) (1.3.2)\n",
            "Requirement already satisfied: scipy<2 in /usr/local/lib/python3.10/dist-packages (from mlflow) (1.13.1)\n",
            "Requirement already satisfied: sqlalchemy<3,>=1.4.0 in /usr/local/lib/python3.10/dist-packages (from mlflow) (2.0.32)\n",
            "Requirement already satisfied: Jinja2<4,>=2.11 in /usr/local/lib/python3.10/dist-packages (from mlflow) (3.1.4)\n",
            "Requirement already satisfied: gunicorn<23 in /usr/local/lib/python3.10/dist-packages (from mlflow) (22.0.0)\n",
            "Requirement already satisfied: cachetools<6,>=5.0.0 in /usr/local/lib/python3.10/dist-packages (from mlflow-skinny==2.15.1->mlflow) (5.4.0)\n",
            "Requirement already satisfied: click<9,>=7.0 in /usr/local/lib/python3.10/dist-packages (from mlflow-skinny==2.15.1->mlflow) (8.1.7)\n",
            "Requirement already satisfied: cloudpickle<4 in /usr/local/lib/python3.10/dist-packages (from mlflow-skinny==2.15.1->mlflow) (2.2.1)\n",
            "Requirement already satisfied: databricks-sdk<1,>=0.20.0 in /usr/local/lib/python3.10/dist-packages (from mlflow-skinny==2.15.1->mlflow) (0.30.0)\n",
            "Requirement already satisfied: entrypoints<1 in /usr/local/lib/python3.10/dist-packages (from mlflow-skinny==2.15.1->mlflow) (0.4)\n",
            "Requirement already satisfied: gitpython<4,>=3.1.9 in /usr/local/lib/python3.10/dist-packages (from mlflow-skinny==2.15.1->mlflow) (3.1.43)\n",
            "Requirement already satisfied: importlib-metadata!=4.7.0,<8,>=3.7.0 in /usr/local/lib/python3.10/dist-packages (from mlflow-skinny==2.15.1->mlflow) (7.2.1)\n",
            "Requirement already satisfied: opentelemetry-api<3,>=1.9.0 in /usr/local/lib/python3.10/dist-packages (from mlflow-skinny==2.15.1->mlflow) (1.26.0)\n",
            "Requirement already satisfied: opentelemetry-sdk<3,>=1.9.0 in /usr/local/lib/python3.10/dist-packages (from mlflow-skinny==2.15.1->mlflow) (1.26.0)\n",
            "Requirement already satisfied: packaging<25 in /usr/local/lib/python3.10/dist-packages (from mlflow-skinny==2.15.1->mlflow) (24.1)\n",
            "Requirement already satisfied: protobuf<6,>=3.12.0 in /usr/local/lib/python3.10/dist-packages (from mlflow-skinny==2.15.1->mlflow) (3.20.3)\n",
            "Requirement already satisfied: pytz<2025 in /usr/local/lib/python3.10/dist-packages (from mlflow-skinny==2.15.1->mlflow) (2024.1)\n",
            "Requirement already satisfied: pyyaml<7,>=5.1 in /usr/local/lib/python3.10/dist-packages (from mlflow-skinny==2.15.1->mlflow) (6.0.2)\n",
            "Requirement already satisfied: requests<3,>=2.17.3 in /usr/local/lib/python3.10/dist-packages (from mlflow-skinny==2.15.1->mlflow) (2.32.3)\n",
            "Requirement already satisfied: sqlparse<1,>=0.4.0 in /usr/local/lib/python3.10/dist-packages (from mlflow-skinny==2.15.1->mlflow) (0.5.1)\n",
            "Requirement already satisfied: Mako in /usr/local/lib/python3.10/dist-packages (from alembic!=1.10.0,<2->mlflow) (1.3.5)\n",
            "Requirement already satisfied: typing-extensions>=4 in /usr/local/lib/python3.10/dist-packages (from alembic!=1.10.0,<2->mlflow) (4.12.2)\n",
            "Requirement already satisfied: urllib3>=1.26.0 in /usr/local/lib/python3.10/dist-packages (from docker<8,>=4.0.0->mlflow) (2.0.7)\n",
            "Requirement already satisfied: Werkzeug>=2.2.2 in /usr/local/lib/python3.10/dist-packages (from Flask<4->mlflow) (3.0.3)\n",
            "Requirement already satisfied: itsdangerous>=2.0 in /usr/local/lib/python3.10/dist-packages (from Flask<4->mlflow) (2.2.0)\n",
            "Requirement already satisfied: graphql-core<3.3,>=3.1 in /usr/local/lib/python3.10/dist-packages (from graphene<4->mlflow) (3.2.3)\n",
            "Requirement already satisfied: graphql-relay<3.3,>=3.1 in /usr/local/lib/python3.10/dist-packages (from graphene<4->mlflow) (3.2.0)\n",
            "Requirement already satisfied: aniso8601<10,>=8 in /usr/local/lib/python3.10/dist-packages (from graphene<4->mlflow) (9.0.1)\n",
            "Requirement already satisfied: MarkupSafe>=2.0 in /usr/local/lib/python3.10/dist-packages (from Jinja2<4,>=2.11->mlflow) (2.1.5)\n",
            "Requirement already satisfied: contourpy>=1.0.1 in /usr/local/lib/python3.10/dist-packages (from matplotlib<4->mlflow) (1.2.1)\n",
            "Requirement already satisfied: cycler>=0.10 in /usr/local/lib/python3.10/dist-packages (from matplotlib<4->mlflow) (0.12.1)\n",
            "Requirement already satisfied: fonttools>=4.22.0 in /usr/local/lib/python3.10/dist-packages (from matplotlib<4->mlflow) (4.53.1)\n",
            "Requirement already satisfied: kiwisolver>=1.0.1 in /usr/local/lib/python3.10/dist-packages (from matplotlib<4->mlflow) (1.4.5)\n",
            "Requirement already satisfied: pillow>=6.2.0 in /usr/local/lib/python3.10/dist-packages (from matplotlib<4->mlflow) (9.4.0)\n",
            "Requirement already satisfied: pyparsing>=2.3.1 in /usr/local/lib/python3.10/dist-packages (from matplotlib<4->mlflow) (3.1.2)\n",
            "Requirement already satisfied: python-dateutil>=2.7 in /usr/local/lib/python3.10/dist-packages (from matplotlib<4->mlflow) (2.8.2)\n",
            "Requirement already satisfied: tzdata>=2022.1 in /usr/local/lib/python3.10/dist-packages (from pandas<3->mlflow) (2024.1)\n",
            "Requirement already satisfied: six in /usr/local/lib/python3.10/dist-packages (from querystring-parser<2->mlflow) (1.16.0)\n",
            "Requirement already satisfied: joblib>=1.1.1 in /usr/local/lib/python3.10/dist-packages (from scikit-learn<2->mlflow) (1.4.2)\n",
            "Requirement already satisfied: threadpoolctl>=2.0.0 in /usr/local/lib/python3.10/dist-packages (from scikit-learn<2->mlflow) (3.5.0)\n",
            "Requirement already satisfied: greenlet!=0.4.17 in /usr/local/lib/python3.10/dist-packages (from sqlalchemy<3,>=1.4.0->mlflow) (3.0.3)\n",
            "Requirement already satisfied: google-auth~=2.0 in /usr/local/lib/python3.10/dist-packages (from databricks-sdk<1,>=0.20.0->mlflow-skinny==2.15.1->mlflow) (2.27.0)\n",
            "Requirement already satisfied: gitdb<5,>=4.0.1 in /usr/local/lib/python3.10/dist-packages (from gitpython<4,>=3.1.9->mlflow-skinny==2.15.1->mlflow) (4.0.11)\n",
            "Requirement already satisfied: zipp>=0.5 in /usr/local/lib/python3.10/dist-packages (from importlib-metadata!=4.7.0,<8,>=3.7.0->mlflow-skinny==2.15.1->mlflow) (3.19.2)\n",
            "Requirement already satisfied: deprecated>=1.2.6 in /usr/local/lib/python3.10/dist-packages (from opentelemetry-api<3,>=1.9.0->mlflow-skinny==2.15.1->mlflow) (1.2.14)\n",
            "Requirement already satisfied: opentelemetry-semantic-conventions==0.47b0 in /usr/local/lib/python3.10/dist-packages (from opentelemetry-sdk<3,>=1.9.0->mlflow-skinny==2.15.1->mlflow) (0.47b0)\n",
            "Requirement already satisfied: charset-normalizer<4,>=2 in /usr/local/lib/python3.10/dist-packages (from requests<3,>=2.17.3->mlflow-skinny==2.15.1->mlflow) (3.3.2)\n",
            "Requirement already satisfied: idna<4,>=2.5 in /usr/local/lib/python3.10/dist-packages (from requests<3,>=2.17.3->mlflow-skinny==2.15.1->mlflow) (3.7)\n",
            "Requirement already satisfied: certifi>=2017.4.17 in /usr/local/lib/python3.10/dist-packages (from requests<3,>=2.17.3->mlflow-skinny==2.15.1->mlflow) (2024.7.4)\n",
            "Requirement already satisfied: wrapt<2,>=1.10 in /usr/local/lib/python3.10/dist-packages (from deprecated>=1.2.6->opentelemetry-api<3,>=1.9.0->mlflow-skinny==2.15.1->mlflow) (1.16.0)\n",
            "Requirement already satisfied: smmap<6,>=3.0.1 in /usr/local/lib/python3.10/dist-packages (from gitdb<5,>=4.0.1->gitpython<4,>=3.1.9->mlflow-skinny==2.15.1->mlflow) (5.0.1)\n",
            "Requirement already satisfied: pyasn1-modules>=0.2.1 in /usr/local/lib/python3.10/dist-packages (from google-auth~=2.0->databricks-sdk<1,>=0.20.0->mlflow-skinny==2.15.1->mlflow) (0.4.0)\n",
            "Requirement already satisfied: rsa<5,>=3.1.4 in /usr/local/lib/python3.10/dist-packages (from google-auth~=2.0->databricks-sdk<1,>=0.20.0->mlflow-skinny==2.15.1->mlflow) (4.9)\n",
            "Requirement already satisfied: pyasn1<0.7.0,>=0.4.6 in /usr/local/lib/python3.10/dist-packages (from pyasn1-modules>=0.2.1->google-auth~=2.0->databricks-sdk<1,>=0.20.0->mlflow-skinny==2.15.1->mlflow) (0.6.0)\n"
          ]
        }
      ],
      "source": [
        "!pip install mlflow"
      ]
    },
    {
      "cell_type": "code",
      "execution_count": null,
      "metadata": {
        "id": "uETOsvnkFRxz"
      },
      "outputs": [],
      "source": [
        "#%pip install -q mlflow databricks-sdk"
      ]
    },
    {
      "cell_type": "code",
      "execution_count": null,
      "metadata": {
        "colab": {
          "base_uri": "https://localhost:8080/"
        },
        "id": "Zi7MTJrEHpLj",
        "outputId": "b9dceaf7-de12-48f4-ca89-624618c69979"
      },
      "outputs": [
        {
          "name": "stdout",
          "output_type": "stream",
          "text": [
            "Requirement already satisfied: keras in /usr/local/lib/python3.10/dist-packages (3.4.1)\n",
            "Requirement already satisfied: absl-py in /usr/local/lib/python3.10/dist-packages (from keras) (1.4.0)\n",
            "Requirement already satisfied: numpy in /usr/local/lib/python3.10/dist-packages (from keras) (1.26.4)\n",
            "Requirement already satisfied: rich in /usr/local/lib/python3.10/dist-packages (from keras) (13.7.1)\n",
            "Requirement already satisfied: namex in /usr/local/lib/python3.10/dist-packages (from keras) (0.0.8)\n",
            "Requirement already satisfied: h5py in /usr/local/lib/python3.10/dist-packages (from keras) (3.11.0)\n",
            "Requirement already satisfied: optree in /usr/local/lib/python3.10/dist-packages (from keras) (0.12.1)\n",
            "Requirement already satisfied: ml-dtypes in /usr/local/lib/python3.10/dist-packages (from keras) (0.4.0)\n",
            "Requirement already satisfied: packaging in /usr/local/lib/python3.10/dist-packages (from keras) (24.1)\n",
            "Requirement already satisfied: typing-extensions>=4.5.0 in /usr/local/lib/python3.10/dist-packages (from optree->keras) (4.12.2)\n",
            "Requirement already satisfied: markdown-it-py>=2.2.0 in /usr/local/lib/python3.10/dist-packages (from rich->keras) (3.0.0)\n",
            "Requirement already satisfied: pygments<3.0.0,>=2.13.0 in /usr/local/lib/python3.10/dist-packages (from rich->keras) (2.16.1)\n",
            "Requirement already satisfied: mdurl~=0.1 in /usr/local/lib/python3.10/dist-packages (from markdown-it-py>=2.2.0->rich->keras) (0.1.2)\n"
          ]
        }
      ],
      "source": [
        "!pip install keras"
      ]
    },
    {
      "cell_type": "code",
      "execution_count": null,
      "metadata": {
        "colab": {
          "base_uri": "https://localhost:8080/"
        },
        "id": "wYYYJmhC1wKD",
        "outputId": "305ab003-2edd-40f3-e6ea-217032596104"
      },
      "outputs": [
        {
          "name": "stdout",
          "output_type": "stream",
          "text": [
            "Requirement already satisfied: tensorflow in /usr/local/lib/python3.10/dist-packages (2.17.0)\n",
            "Requirement already satisfied: absl-py>=1.0.0 in /usr/local/lib/python3.10/dist-packages (from tensorflow) (1.4.0)\n",
            "Requirement already satisfied: astunparse>=1.6.0 in /usr/local/lib/python3.10/dist-packages (from tensorflow) (1.6.3)\n",
            "Requirement already satisfied: flatbuffers>=24.3.25 in /usr/local/lib/python3.10/dist-packages (from tensorflow) (24.3.25)\n",
            "Requirement already satisfied: gast!=0.5.0,!=0.5.1,!=0.5.2,>=0.2.1 in /usr/local/lib/python3.10/dist-packages (from tensorflow) (0.6.0)\n",
            "Requirement already satisfied: google-pasta>=0.1.1 in /usr/local/lib/python3.10/dist-packages (from tensorflow) (0.2.0)\n",
            "Requirement already satisfied: h5py>=3.10.0 in /usr/local/lib/python3.10/dist-packages (from tensorflow) (3.11.0)\n",
            "Requirement already satisfied: libclang>=13.0.0 in /usr/local/lib/python3.10/dist-packages (from tensorflow) (18.1.1)\n",
            "Requirement already satisfied: ml-dtypes<0.5.0,>=0.3.1 in /usr/local/lib/python3.10/dist-packages (from tensorflow) (0.4.0)\n",
            "Requirement already satisfied: opt-einsum>=2.3.2 in /usr/local/lib/python3.10/dist-packages (from tensorflow) (3.3.0)\n",
            "Requirement already satisfied: packaging in /usr/local/lib/python3.10/dist-packages (from tensorflow) (24.1)\n",
            "Requirement already satisfied: protobuf!=4.21.0,!=4.21.1,!=4.21.2,!=4.21.3,!=4.21.4,!=4.21.5,<5.0.0dev,>=3.20.3 in /usr/local/lib/python3.10/dist-packages (from tensorflow) (3.20.3)\n",
            "Requirement already satisfied: requests<3,>=2.21.0 in /usr/local/lib/python3.10/dist-packages (from tensorflow) (2.32.3)\n",
            "Requirement already satisfied: setuptools in /usr/local/lib/python3.10/dist-packages (from tensorflow) (71.0.4)\n",
            "Requirement already satisfied: six>=1.12.0 in /usr/local/lib/python3.10/dist-packages (from tensorflow) (1.16.0)\n",
            "Requirement already satisfied: termcolor>=1.1.0 in /usr/local/lib/python3.10/dist-packages (from tensorflow) (2.4.0)\n",
            "Requirement already satisfied: typing-extensions>=3.6.6 in /usr/local/lib/python3.10/dist-packages (from tensorflow) (4.12.2)\n",
            "Requirement already satisfied: wrapt>=1.11.0 in /usr/local/lib/python3.10/dist-packages (from tensorflow) (1.16.0)\n",
            "Requirement already satisfied: grpcio<2.0,>=1.24.3 in /usr/local/lib/python3.10/dist-packages (from tensorflow) (1.64.1)\n",
            "Requirement already satisfied: tensorboard<2.18,>=2.17 in /usr/local/lib/python3.10/dist-packages (from tensorflow) (2.17.0)\n",
            "Requirement already satisfied: keras>=3.2.0 in /usr/local/lib/python3.10/dist-packages (from tensorflow) (3.4.1)\n",
            "Requirement already satisfied: tensorflow-io-gcs-filesystem>=0.23.1 in /usr/local/lib/python3.10/dist-packages (from tensorflow) (0.37.1)\n",
            "Requirement already satisfied: numpy<2.0.0,>=1.23.5 in /usr/local/lib/python3.10/dist-packages (from tensorflow) (1.26.4)\n",
            "Requirement already satisfied: wheel<1.0,>=0.23.0 in /usr/local/lib/python3.10/dist-packages (from astunparse>=1.6.0->tensorflow) (0.44.0)\n",
            "Requirement already satisfied: rich in /usr/local/lib/python3.10/dist-packages (from keras>=3.2.0->tensorflow) (13.7.1)\n",
            "Requirement already satisfied: namex in /usr/local/lib/python3.10/dist-packages (from keras>=3.2.0->tensorflow) (0.0.8)\n",
            "Requirement already satisfied: optree in /usr/local/lib/python3.10/dist-packages (from keras>=3.2.0->tensorflow) (0.12.1)\n",
            "Requirement already satisfied: charset-normalizer<4,>=2 in /usr/local/lib/python3.10/dist-packages (from requests<3,>=2.21.0->tensorflow) (3.3.2)\n",
            "Requirement already satisfied: idna<4,>=2.5 in /usr/local/lib/python3.10/dist-packages (from requests<3,>=2.21.0->tensorflow) (3.7)\n",
            "Requirement already satisfied: urllib3<3,>=1.21.1 in /usr/local/lib/python3.10/dist-packages (from requests<3,>=2.21.0->tensorflow) (2.0.7)\n",
            "Requirement already satisfied: certifi>=2017.4.17 in /usr/local/lib/python3.10/dist-packages (from requests<3,>=2.21.0->tensorflow) (2024.7.4)\n",
            "Requirement already satisfied: markdown>=2.6.8 in /usr/local/lib/python3.10/dist-packages (from tensorboard<2.18,>=2.17->tensorflow) (3.6)\n",
            "Requirement already satisfied: tensorboard-data-server<0.8.0,>=0.7.0 in /usr/local/lib/python3.10/dist-packages (from tensorboard<2.18,>=2.17->tensorflow) (0.7.2)\n",
            "Requirement already satisfied: werkzeug>=1.0.1 in /usr/local/lib/python3.10/dist-packages (from tensorboard<2.18,>=2.17->tensorflow) (3.0.3)\n",
            "Requirement already satisfied: MarkupSafe>=2.1.1 in /usr/local/lib/python3.10/dist-packages (from werkzeug>=1.0.1->tensorboard<2.18,>=2.17->tensorflow) (2.1.5)\n",
            "Requirement already satisfied: markdown-it-py>=2.2.0 in /usr/local/lib/python3.10/dist-packages (from rich->keras>=3.2.0->tensorflow) (3.0.0)\n",
            "Requirement already satisfied: pygments<3.0.0,>=2.13.0 in /usr/local/lib/python3.10/dist-packages (from rich->keras>=3.2.0->tensorflow) (2.16.1)\n",
            "Requirement already satisfied: mdurl~=0.1 in /usr/local/lib/python3.10/dist-packages (from markdown-it-py>=2.2.0->rich->keras>=3.2.0->tensorflow) (0.1.2)\n"
          ]
        }
      ],
      "source": [
        "!pip install tensorflow"
      ]
    },
    {
      "cell_type": "code",
      "execution_count": null,
      "metadata": {
        "id": "sNur8pm30x_0"
      },
      "outputs": [],
      "source": [
        "import pandas as pd\n",
        "import numpy as np\n",
        "\n",
        "import mlflow\n",
        "\n",
        "import pickle\n",
        "from imblearn.under_sampling import RandomUnderSampler\n",
        "\n",
        "import tensorflow as tf\n",
        "from tensorflow.keras import layers\n",
        "\n",
        "from sklearn.model_selection import train_test_split\n",
        "from sklearn.preprocessing import LabelEncoder, StandardScaler, OneHotEncoder\n",
        "from keras.callbacks import EarlyStopping\n",
        "\n",
        "from imblearn.over_sampling import ADASYN\n",
        "from sklearn.impute import SimpleImputer, KNNImputer\n",
        "\n",
        "from tensorflow.keras import layers\n",
        "from tensorflow.keras import losses"
      ]
    },
    {
      "cell_type": "code",
      "execution_count": null,
      "metadata": {
        "id": "NbVJCLOjz9_1"
      },
      "outputs": [],
      "source": [
        "#mlflow.login()"
      ]
    },
    {
      "cell_type": "code",
      "execution_count": null,
      "metadata": {
        "id": "yMruJjI64IVo"
      },
      "outputs": [],
      "source": [
        "df = pd.read_csv('./sample_data/Loan_Default.csv')"
      ]
    },
    {
      "cell_type": "code",
      "execution_count": null,
      "metadata": {
        "colab": {
          "base_uri": "https://localhost:8080/",
          "height": 320
        },
        "id": "6BKHfUJm4xTz",
        "outputId": "a1875a0a-d3bc-47ce-a84b-8b0c98f6191a"
      },
      "outputs": [
        {
          "data": {
            "application/vnd.google.colaboratory.intrinsic+json": {
              "summary": "{\n  \"name\": \"df\",\n  \"rows\": 8,\n  \"fields\": [\n    {\n      \"column\": \"ID\",\n      \"properties\": {\n        \"dtype\": \"number\",\n        \"std\": 52676.23212660983,\n        \"min\": 24890.0,\n        \"max\": 173559.0,\n        \"num_unique_values\": 7,\n        \"samples\": [\n          148670.0,\n          99224.5,\n          136391.75\n        ],\n        \"semantic_type\": \"\",\n        \"description\": \"\"\n      }\n    },\n    {\n      \"column\": \"year\",\n      \"properties\": {\n        \"dtype\": \"number\",\n        \"std\": 51955.736977326604,\n        \"min\": 0.0,\n        \"max\": 148670.0,\n        \"num_unique_values\": 3,\n        \"samples\": [\n          148670.0,\n          2019.0,\n          0.0\n        ],\n        \"semantic_type\": \"\",\n        \"description\": \"\"\n      }\n    },\n    {\n      \"column\": \"loan_amount\",\n      \"properties\": {\n        \"dtype\": \"number\",\n        \"std\": 1189967.9244245896,\n        \"min\": 16500.0,\n        \"max\": 3576500.0,\n        \"num_unique_values\": 8,\n        \"samples\": [\n          331117.7439967714,\n          296500.0,\n          148670.0\n        ],\n        \"semantic_type\": \"\",\n        \"description\": \"\"\n      }\n    },\n    {\n      \"column\": \"rate_of_interest\",\n      \"properties\": {\n        \"dtype\": \"number\",\n        \"std\": 39678.40832670772,\n        \"min\": 0.0,\n        \"max\": 112231.0,\n        \"num_unique_values\": 8,\n        \"samples\": [\n          4.045475804367777,\n          3.99,\n          112231.0\n        ],\n        \"semantic_type\": \"\",\n        \"description\": \"\"\n      }\n    },\n    {\n      \"column\": \"Interest_rate_spread\",\n      \"properties\": {\n        \"dtype\": \"number\",\n        \"std\": 39608.84319971696,\n        \"min\": -3.638,\n        \"max\": 112031.0,\n        \"num_unique_values\": 8,\n        \"samples\": [\n          0.4416556604868295,\n          0.3904,\n          112031.0\n        ],\n        \"semantic_type\": \"\",\n        \"description\": \"\"\n      }\n    },\n    {\n      \"column\": \"Upfront_charges\",\n      \"properties\": {\n        \"dtype\": \"number\",\n        \"std\": 40230.64473275543,\n        \"min\": 0.0,\n        \"max\": 109028.0,\n        \"num_unique_values\": 8,\n        \"samples\": [\n          3224.996126591334,\n          2596.45,\n          109028.0\n        ],\n        \"semantic_type\": \"\",\n        \"description\": \"\"\n      }\n    },\n    {\n      \"column\": \"term\",\n      \"properties\": {\n        \"dtype\": \"number\",\n        \"std\": 52450.98191379255,\n        \"min\": 58.409083508964336,\n        \"max\": 148629.0,\n        \"num_unique_values\": 5,\n        \"samples\": [\n          335.1365816899797,\n          360.0,\n          58.409083508964336\n        ],\n        \"semantic_type\": \"\",\n        \"description\": \"\"\n      }\n    },\n    {\n      \"column\": \"property_value\",\n      \"properties\": {\n        \"dtype\": \"number\",\n        \"std\": 5723007.599563885,\n        \"min\": 8000.0,\n        \"max\": 16508000.0,\n        \"num_unique_values\": 8,\n        \"samples\": [\n          497893.46569640347,\n          418000.0,\n          133572.0\n        ],\n        \"semantic_type\": \"\",\n        \"description\": \"\"\n      }\n    },\n    {\n      \"column\": \"income\",\n      \"properties\": {\n        \"dtype\": \"number\",\n        \"std\": 201495.11782106743,\n        \"min\": 0.0,\n        \"max\": 578580.0,\n        \"num_unique_values\": 8,\n        \"samples\": [\n          6957.338876146789,\n          5760.0,\n          139520.0\n        ],\n        \"semantic_type\": \"\",\n        \"description\": \"\"\n      }\n    },\n    {\n      \"column\": \"Credit_Score\",\n      \"properties\": {\n        \"dtype\": \"number\",\n        \"std\": 52345.44490474469,\n        \"min\": 115.87585660446858,\n        \"max\": 148670.0,\n        \"num_unique_values\": 8,\n        \"samples\": [\n          699.7891033833322,\n          699.0,\n          148670.0\n        ],\n        \"semantic_type\": \"\",\n        \"description\": \"\"\n      }\n    },\n    {\n      \"column\": \"LTV\",\n      \"properties\": {\n        \"dtype\": \"number\",\n        \"std\": 46891.36070032538,\n        \"min\": 0.967478198,\n        \"max\": 133572.0,\n        \"num_unique_values\": 8,\n        \"samples\": [\n          72.74645733387138,\n          75.13586957,\n          133572.0\n        ],\n        \"semantic_type\": \"\",\n        \"description\": \"\"\n      }\n    },\n    {\n      \"column\": \"Status\",\n      \"properties\": {\n        \"dtype\": \"number\",\n        \"std\": 52562.69785979443,\n        \"min\": 0.0,\n        \"max\": 148670.0,\n        \"num_unique_values\": 5,\n        \"samples\": [\n          0.24644514696979888,\n          1.0,\n          0.4309422068621314\n        ],\n        \"semantic_type\": \"\",\n        \"description\": \"\"\n      }\n    },\n    {\n      \"column\": \"dtir1\",\n      \"properties\": {\n        \"dtype\": \"number\",\n        \"std\": 44023.14463509978,\n        \"min\": 5.0,\n        \"max\": 124549.0,\n        \"num_unique_values\": 8,\n        \"samples\": [\n          37.73293242017198,\n          39.0,\n          124549.0\n        ],\n        \"semantic_type\": \"\",\n        \"description\": \"\"\n      }\n    }\n  ]\n}",
              "type": "dataframe"
            },
            "text/html": [
              "\n",
              "  <div id=\"df-4578f965-1924-4d7d-ac35-e96b8af4dec4\" class=\"colab-df-container\">\n",
              "    <div>\n",
              "<style scoped>\n",
              "    .dataframe tbody tr th:only-of-type {\n",
              "        vertical-align: middle;\n",
              "    }\n",
              "\n",
              "    .dataframe tbody tr th {\n",
              "        vertical-align: top;\n",
              "    }\n",
              "\n",
              "    .dataframe thead th {\n",
              "        text-align: right;\n",
              "    }\n",
              "</style>\n",
              "<table border=\"1\" class=\"dataframe\">\n",
              "  <thead>\n",
              "    <tr style=\"text-align: right;\">\n",
              "      <th></th>\n",
              "      <th>ID</th>\n",
              "      <th>year</th>\n",
              "      <th>loan_amount</th>\n",
              "      <th>rate_of_interest</th>\n",
              "      <th>Interest_rate_spread</th>\n",
              "      <th>Upfront_charges</th>\n",
              "      <th>term</th>\n",
              "      <th>property_value</th>\n",
              "      <th>income</th>\n",
              "      <th>Credit_Score</th>\n",
              "      <th>LTV</th>\n",
              "      <th>Status</th>\n",
              "      <th>dtir1</th>\n",
              "    </tr>\n",
              "  </thead>\n",
              "  <tbody>\n",
              "    <tr>\n",
              "      <th>count</th>\n",
              "      <td>148670.000000</td>\n",
              "      <td>148670.0</td>\n",
              "      <td>1.486700e+05</td>\n",
              "      <td>112231.000000</td>\n",
              "      <td>112031.000000</td>\n",
              "      <td>109028.000000</td>\n",
              "      <td>148629.000000</td>\n",
              "      <td>1.335720e+05</td>\n",
              "      <td>139520.000000</td>\n",
              "      <td>148670.000000</td>\n",
              "      <td>133572.000000</td>\n",
              "      <td>148670.000000</td>\n",
              "      <td>124549.000000</td>\n",
              "    </tr>\n",
              "    <tr>\n",
              "      <th>mean</th>\n",
              "      <td>99224.500000</td>\n",
              "      <td>2019.0</td>\n",
              "      <td>3.311177e+05</td>\n",
              "      <td>4.045476</td>\n",
              "      <td>0.441656</td>\n",
              "      <td>3224.996127</td>\n",
              "      <td>335.136582</td>\n",
              "      <td>4.978935e+05</td>\n",
              "      <td>6957.338876</td>\n",
              "      <td>699.789103</td>\n",
              "      <td>72.746457</td>\n",
              "      <td>0.246445</td>\n",
              "      <td>37.732932</td>\n",
              "    </tr>\n",
              "    <tr>\n",
              "      <th>std</th>\n",
              "      <td>42917.476598</td>\n",
              "      <td>0.0</td>\n",
              "      <td>1.839093e+05</td>\n",
              "      <td>0.561391</td>\n",
              "      <td>0.513043</td>\n",
              "      <td>3251.121510</td>\n",
              "      <td>58.409084</td>\n",
              "      <td>3.599353e+05</td>\n",
              "      <td>6496.586382</td>\n",
              "      <td>115.875857</td>\n",
              "      <td>39.967603</td>\n",
              "      <td>0.430942</td>\n",
              "      <td>10.545435</td>\n",
              "    </tr>\n",
              "    <tr>\n",
              "      <th>min</th>\n",
              "      <td>24890.000000</td>\n",
              "      <td>2019.0</td>\n",
              "      <td>1.650000e+04</td>\n",
              "      <td>0.000000</td>\n",
              "      <td>-3.638000</td>\n",
              "      <td>0.000000</td>\n",
              "      <td>96.000000</td>\n",
              "      <td>8.000000e+03</td>\n",
              "      <td>0.000000</td>\n",
              "      <td>500.000000</td>\n",
              "      <td>0.967478</td>\n",
              "      <td>0.000000</td>\n",
              "      <td>5.000000</td>\n",
              "    </tr>\n",
              "    <tr>\n",
              "      <th>25%</th>\n",
              "      <td>62057.250000</td>\n",
              "      <td>2019.0</td>\n",
              "      <td>1.965000e+05</td>\n",
              "      <td>3.625000</td>\n",
              "      <td>0.076000</td>\n",
              "      <td>581.490000</td>\n",
              "      <td>360.000000</td>\n",
              "      <td>2.680000e+05</td>\n",
              "      <td>3720.000000</td>\n",
              "      <td>599.000000</td>\n",
              "      <td>60.474860</td>\n",
              "      <td>0.000000</td>\n",
              "      <td>31.000000</td>\n",
              "    </tr>\n",
              "    <tr>\n",
              "      <th>50%</th>\n",
              "      <td>99224.500000</td>\n",
              "      <td>2019.0</td>\n",
              "      <td>2.965000e+05</td>\n",
              "      <td>3.990000</td>\n",
              "      <td>0.390400</td>\n",
              "      <td>2596.450000</td>\n",
              "      <td>360.000000</td>\n",
              "      <td>4.180000e+05</td>\n",
              "      <td>5760.000000</td>\n",
              "      <td>699.000000</td>\n",
              "      <td>75.135870</td>\n",
              "      <td>0.000000</td>\n",
              "      <td>39.000000</td>\n",
              "    </tr>\n",
              "    <tr>\n",
              "      <th>75%</th>\n",
              "      <td>136391.750000</td>\n",
              "      <td>2019.0</td>\n",
              "      <td>4.365000e+05</td>\n",
              "      <td>4.375000</td>\n",
              "      <td>0.775400</td>\n",
              "      <td>4812.500000</td>\n",
              "      <td>360.000000</td>\n",
              "      <td>6.280000e+05</td>\n",
              "      <td>8520.000000</td>\n",
              "      <td>800.000000</td>\n",
              "      <td>86.184211</td>\n",
              "      <td>0.000000</td>\n",
              "      <td>45.000000</td>\n",
              "    </tr>\n",
              "    <tr>\n",
              "      <th>max</th>\n",
              "      <td>173559.000000</td>\n",
              "      <td>2019.0</td>\n",
              "      <td>3.576500e+06</td>\n",
              "      <td>8.000000</td>\n",
              "      <td>3.357000</td>\n",
              "      <td>60000.000000</td>\n",
              "      <td>360.000000</td>\n",
              "      <td>1.650800e+07</td>\n",
              "      <td>578580.000000</td>\n",
              "      <td>900.000000</td>\n",
              "      <td>7831.250000</td>\n",
              "      <td>1.000000</td>\n",
              "      <td>61.000000</td>\n",
              "    </tr>\n",
              "  </tbody>\n",
              "</table>\n",
              "</div>\n",
              "    <div class=\"colab-df-buttons\">\n",
              "\n",
              "  <div class=\"colab-df-container\">\n",
              "    <button class=\"colab-df-convert\" onclick=\"convertToInteractive('df-4578f965-1924-4d7d-ac35-e96b8af4dec4')\"\n",
              "            title=\"Convert this dataframe to an interactive table.\"\n",
              "            style=\"display:none;\">\n",
              "\n",
              "  <svg xmlns=\"http://www.w3.org/2000/svg\" height=\"24px\" viewBox=\"0 -960 960 960\">\n",
              "    <path d=\"M120-120v-720h720v720H120Zm60-500h600v-160H180v160Zm220 220h160v-160H400v160Zm0 220h160v-160H400v160ZM180-400h160v-160H180v160Zm440 0h160v-160H620v160ZM180-180h160v-160H180v160Zm440 0h160v-160H620v160Z\"/>\n",
              "  </svg>\n",
              "    </button>\n",
              "\n",
              "  <style>\n",
              "    .colab-df-container {\n",
              "      display:flex;\n",
              "      gap: 12px;\n",
              "    }\n",
              "\n",
              "    .colab-df-convert {\n",
              "      background-color: #E8F0FE;\n",
              "      border: none;\n",
              "      border-radius: 50%;\n",
              "      cursor: pointer;\n",
              "      display: none;\n",
              "      fill: #1967D2;\n",
              "      height: 32px;\n",
              "      padding: 0 0 0 0;\n",
              "      width: 32px;\n",
              "    }\n",
              "\n",
              "    .colab-df-convert:hover {\n",
              "      background-color: #E2EBFA;\n",
              "      box-shadow: 0px 1px 2px rgba(60, 64, 67, 0.3), 0px 1px 3px 1px rgba(60, 64, 67, 0.15);\n",
              "      fill: #174EA6;\n",
              "    }\n",
              "\n",
              "    .colab-df-buttons div {\n",
              "      margin-bottom: 4px;\n",
              "    }\n",
              "\n",
              "    [theme=dark] .colab-df-convert {\n",
              "      background-color: #3B4455;\n",
              "      fill: #D2E3FC;\n",
              "    }\n",
              "\n",
              "    [theme=dark] .colab-df-convert:hover {\n",
              "      background-color: #434B5C;\n",
              "      box-shadow: 0px 1px 3px 1px rgba(0, 0, 0, 0.15);\n",
              "      filter: drop-shadow(0px 1px 2px rgba(0, 0, 0, 0.3));\n",
              "      fill: #FFFFFF;\n",
              "    }\n",
              "  </style>\n",
              "\n",
              "    <script>\n",
              "      const buttonEl =\n",
              "        document.querySelector('#df-4578f965-1924-4d7d-ac35-e96b8af4dec4 button.colab-df-convert');\n",
              "      buttonEl.style.display =\n",
              "        google.colab.kernel.accessAllowed ? 'block' : 'none';\n",
              "\n",
              "      async function convertToInteractive(key) {\n",
              "        const element = document.querySelector('#df-4578f965-1924-4d7d-ac35-e96b8af4dec4');\n",
              "        const dataTable =\n",
              "          await google.colab.kernel.invokeFunction('convertToInteractive',\n",
              "                                                    [key], {});\n",
              "        if (!dataTable) return;\n",
              "\n",
              "        const docLinkHtml = 'Like what you see? Visit the ' +\n",
              "          '<a target=\"_blank\" href=https://colab.research.google.com/notebooks/data_table.ipynb>data table notebook</a>'\n",
              "          + ' to learn more about interactive tables.';\n",
              "        element.innerHTML = '';\n",
              "        dataTable['output_type'] = 'display_data';\n",
              "        await google.colab.output.renderOutput(dataTable, element);\n",
              "        const docLink = document.createElement('div');\n",
              "        docLink.innerHTML = docLinkHtml;\n",
              "        element.appendChild(docLink);\n",
              "      }\n",
              "    </script>\n",
              "  </div>\n",
              "\n",
              "\n",
              "<div id=\"df-98d6f3be-5da7-4c81-b022-082af98117f7\">\n",
              "  <button class=\"colab-df-quickchart\" onclick=\"quickchart('df-98d6f3be-5da7-4c81-b022-082af98117f7')\"\n",
              "            title=\"Suggest charts\"\n",
              "            style=\"display:none;\">\n",
              "\n",
              "<svg xmlns=\"http://www.w3.org/2000/svg\" height=\"24px\"viewBox=\"0 0 24 24\"\n",
              "     width=\"24px\">\n",
              "    <g>\n",
              "        <path d=\"M19 3H5c-1.1 0-2 .9-2 2v14c0 1.1.9 2 2 2h14c1.1 0 2-.9 2-2V5c0-1.1-.9-2-2-2zM9 17H7v-7h2v7zm4 0h-2V7h2v10zm4 0h-2v-4h2v4z\"/>\n",
              "    </g>\n",
              "</svg>\n",
              "  </button>\n",
              "\n",
              "<style>\n",
              "  .colab-df-quickchart {\n",
              "      --bg-color: #E8F0FE;\n",
              "      --fill-color: #1967D2;\n",
              "      --hover-bg-color: #E2EBFA;\n",
              "      --hover-fill-color: #174EA6;\n",
              "      --disabled-fill-color: #AAA;\n",
              "      --disabled-bg-color: #DDD;\n",
              "  }\n",
              "\n",
              "  [theme=dark] .colab-df-quickchart {\n",
              "      --bg-color: #3B4455;\n",
              "      --fill-color: #D2E3FC;\n",
              "      --hover-bg-color: #434B5C;\n",
              "      --hover-fill-color: #FFFFFF;\n",
              "      --disabled-bg-color: #3B4455;\n",
              "      --disabled-fill-color: #666;\n",
              "  }\n",
              "\n",
              "  .colab-df-quickchart {\n",
              "    background-color: var(--bg-color);\n",
              "    border: none;\n",
              "    border-radius: 50%;\n",
              "    cursor: pointer;\n",
              "    display: none;\n",
              "    fill: var(--fill-color);\n",
              "    height: 32px;\n",
              "    padding: 0;\n",
              "    width: 32px;\n",
              "  }\n",
              "\n",
              "  .colab-df-quickchart:hover {\n",
              "    background-color: var(--hover-bg-color);\n",
              "    box-shadow: 0 1px 2px rgba(60, 64, 67, 0.3), 0 1px 3px 1px rgba(60, 64, 67, 0.15);\n",
              "    fill: var(--button-hover-fill-color);\n",
              "  }\n",
              "\n",
              "  .colab-df-quickchart-complete:disabled,\n",
              "  .colab-df-quickchart-complete:disabled:hover {\n",
              "    background-color: var(--disabled-bg-color);\n",
              "    fill: var(--disabled-fill-color);\n",
              "    box-shadow: none;\n",
              "  }\n",
              "\n",
              "  .colab-df-spinner {\n",
              "    border: 2px solid var(--fill-color);\n",
              "    border-color: transparent;\n",
              "    border-bottom-color: var(--fill-color);\n",
              "    animation:\n",
              "      spin 1s steps(1) infinite;\n",
              "  }\n",
              "\n",
              "  @keyframes spin {\n",
              "    0% {\n",
              "      border-color: transparent;\n",
              "      border-bottom-color: var(--fill-color);\n",
              "      border-left-color: var(--fill-color);\n",
              "    }\n",
              "    20% {\n",
              "      border-color: transparent;\n",
              "      border-left-color: var(--fill-color);\n",
              "      border-top-color: var(--fill-color);\n",
              "    }\n",
              "    30% {\n",
              "      border-color: transparent;\n",
              "      border-left-color: var(--fill-color);\n",
              "      border-top-color: var(--fill-color);\n",
              "      border-right-color: var(--fill-color);\n",
              "    }\n",
              "    40% {\n",
              "      border-color: transparent;\n",
              "      border-right-color: var(--fill-color);\n",
              "      border-top-color: var(--fill-color);\n",
              "    }\n",
              "    60% {\n",
              "      border-color: transparent;\n",
              "      border-right-color: var(--fill-color);\n",
              "    }\n",
              "    80% {\n",
              "      border-color: transparent;\n",
              "      border-right-color: var(--fill-color);\n",
              "      border-bottom-color: var(--fill-color);\n",
              "    }\n",
              "    90% {\n",
              "      border-color: transparent;\n",
              "      border-bottom-color: var(--fill-color);\n",
              "    }\n",
              "  }\n",
              "</style>\n",
              "\n",
              "  <script>\n",
              "    async function quickchart(key) {\n",
              "      const quickchartButtonEl =\n",
              "        document.querySelector('#' + key + ' button');\n",
              "      quickchartButtonEl.disabled = true;  // To prevent multiple clicks.\n",
              "      quickchartButtonEl.classList.add('colab-df-spinner');\n",
              "      try {\n",
              "        const charts = await google.colab.kernel.invokeFunction(\n",
              "            'suggestCharts', [key], {});\n",
              "      } catch (error) {\n",
              "        console.error('Error during call to suggestCharts:', error);\n",
              "      }\n",
              "      quickchartButtonEl.classList.remove('colab-df-spinner');\n",
              "      quickchartButtonEl.classList.add('colab-df-quickchart-complete');\n",
              "    }\n",
              "    (() => {\n",
              "      let quickchartButtonEl =\n",
              "        document.querySelector('#df-98d6f3be-5da7-4c81-b022-082af98117f7 button');\n",
              "      quickchartButtonEl.style.display =\n",
              "        google.colab.kernel.accessAllowed ? 'block' : 'none';\n",
              "    })();\n",
              "  </script>\n",
              "</div>\n",
              "\n",
              "    </div>\n",
              "  </div>\n"
            ],
            "text/plain": [
              "                  ID      year   loan_amount  rate_of_interest  \\\n",
              "count  148670.000000  148670.0  1.486700e+05     112231.000000   \n",
              "mean    99224.500000    2019.0  3.311177e+05          4.045476   \n",
              "std     42917.476598       0.0  1.839093e+05          0.561391   \n",
              "min     24890.000000    2019.0  1.650000e+04          0.000000   \n",
              "25%     62057.250000    2019.0  1.965000e+05          3.625000   \n",
              "50%     99224.500000    2019.0  2.965000e+05          3.990000   \n",
              "75%    136391.750000    2019.0  4.365000e+05          4.375000   \n",
              "max    173559.000000    2019.0  3.576500e+06          8.000000   \n",
              "\n",
              "       Interest_rate_spread  Upfront_charges           term  property_value  \\\n",
              "count         112031.000000    109028.000000  148629.000000    1.335720e+05   \n",
              "mean               0.441656      3224.996127     335.136582    4.978935e+05   \n",
              "std                0.513043      3251.121510      58.409084    3.599353e+05   \n",
              "min               -3.638000         0.000000      96.000000    8.000000e+03   \n",
              "25%                0.076000       581.490000     360.000000    2.680000e+05   \n",
              "50%                0.390400      2596.450000     360.000000    4.180000e+05   \n",
              "75%                0.775400      4812.500000     360.000000    6.280000e+05   \n",
              "max                3.357000     60000.000000     360.000000    1.650800e+07   \n",
              "\n",
              "              income   Credit_Score            LTV         Status  \\\n",
              "count  139520.000000  148670.000000  133572.000000  148670.000000   \n",
              "mean     6957.338876     699.789103      72.746457       0.246445   \n",
              "std      6496.586382     115.875857      39.967603       0.430942   \n",
              "min         0.000000     500.000000       0.967478       0.000000   \n",
              "25%      3720.000000     599.000000      60.474860       0.000000   \n",
              "50%      5760.000000     699.000000      75.135870       0.000000   \n",
              "75%      8520.000000     800.000000      86.184211       0.000000   \n",
              "max    578580.000000     900.000000    7831.250000       1.000000   \n",
              "\n",
              "               dtir1  \n",
              "count  124549.000000  \n",
              "mean       37.732932  \n",
              "std        10.545435  \n",
              "min         5.000000  \n",
              "25%        31.000000  \n",
              "50%        39.000000  \n",
              "75%        45.000000  \n",
              "max        61.000000  "
            ]
          },
          "execution_count": 82,
          "metadata": {},
          "output_type": "execute_result"
        }
      ],
      "source": [
        "df.describe()"
      ]
    },
    {
      "cell_type": "code",
      "execution_count": null,
      "metadata": {
        "colab": {
          "base_uri": "https://localhost:8080/",
          "height": 1000
        },
        "id": "Qg98q6jB413S",
        "outputId": "c0a1f3c2-5b97-4f60-9111-cf850aa39d31"
      },
      "outputs": [
        {
          "data": {
            "text/html": [
              "<div>\n",
              "<style scoped>\n",
              "    .dataframe tbody tr th:only-of-type {\n",
              "        vertical-align: middle;\n",
              "    }\n",
              "\n",
              "    .dataframe tbody tr th {\n",
              "        vertical-align: top;\n",
              "    }\n",
              "\n",
              "    .dataframe thead th {\n",
              "        text-align: right;\n",
              "    }\n",
              "</style>\n",
              "<table border=\"1\" class=\"dataframe\">\n",
              "  <thead>\n",
              "    <tr style=\"text-align: right;\">\n",
              "      <th></th>\n",
              "      <th>0</th>\n",
              "    </tr>\n",
              "  </thead>\n",
              "  <tbody>\n",
              "    <tr>\n",
              "      <th>ID</th>\n",
              "      <td>0</td>\n",
              "    </tr>\n",
              "    <tr>\n",
              "      <th>year</th>\n",
              "      <td>0</td>\n",
              "    </tr>\n",
              "    <tr>\n",
              "      <th>loan_limit</th>\n",
              "      <td>3344</td>\n",
              "    </tr>\n",
              "    <tr>\n",
              "      <th>Gender</th>\n",
              "      <td>0</td>\n",
              "    </tr>\n",
              "    <tr>\n",
              "      <th>approv_in_adv</th>\n",
              "      <td>908</td>\n",
              "    </tr>\n",
              "    <tr>\n",
              "      <th>loan_type</th>\n",
              "      <td>0</td>\n",
              "    </tr>\n",
              "    <tr>\n",
              "      <th>loan_purpose</th>\n",
              "      <td>134</td>\n",
              "    </tr>\n",
              "    <tr>\n",
              "      <th>Credit_Worthiness</th>\n",
              "      <td>0</td>\n",
              "    </tr>\n",
              "    <tr>\n",
              "      <th>open_credit</th>\n",
              "      <td>0</td>\n",
              "    </tr>\n",
              "    <tr>\n",
              "      <th>business_or_commercial</th>\n",
              "      <td>0</td>\n",
              "    </tr>\n",
              "    <tr>\n",
              "      <th>loan_amount</th>\n",
              "      <td>0</td>\n",
              "    </tr>\n",
              "    <tr>\n",
              "      <th>rate_of_interest</th>\n",
              "      <td>36439</td>\n",
              "    </tr>\n",
              "    <tr>\n",
              "      <th>Interest_rate_spread</th>\n",
              "      <td>36639</td>\n",
              "    </tr>\n",
              "    <tr>\n",
              "      <th>Upfront_charges</th>\n",
              "      <td>39642</td>\n",
              "    </tr>\n",
              "    <tr>\n",
              "      <th>term</th>\n",
              "      <td>41</td>\n",
              "    </tr>\n",
              "    <tr>\n",
              "      <th>Neg_ammortization</th>\n",
              "      <td>121</td>\n",
              "    </tr>\n",
              "    <tr>\n",
              "      <th>interest_only</th>\n",
              "      <td>0</td>\n",
              "    </tr>\n",
              "    <tr>\n",
              "      <th>lump_sum_payment</th>\n",
              "      <td>0</td>\n",
              "    </tr>\n",
              "    <tr>\n",
              "      <th>property_value</th>\n",
              "      <td>15098</td>\n",
              "    </tr>\n",
              "    <tr>\n",
              "      <th>construction_type</th>\n",
              "      <td>0</td>\n",
              "    </tr>\n",
              "    <tr>\n",
              "      <th>occupancy_type</th>\n",
              "      <td>0</td>\n",
              "    </tr>\n",
              "    <tr>\n",
              "      <th>Secured_by</th>\n",
              "      <td>0</td>\n",
              "    </tr>\n",
              "    <tr>\n",
              "      <th>total_units</th>\n",
              "      <td>0</td>\n",
              "    </tr>\n",
              "    <tr>\n",
              "      <th>income</th>\n",
              "      <td>9150</td>\n",
              "    </tr>\n",
              "    <tr>\n",
              "      <th>credit_type</th>\n",
              "      <td>0</td>\n",
              "    </tr>\n",
              "    <tr>\n",
              "      <th>Credit_Score</th>\n",
              "      <td>0</td>\n",
              "    </tr>\n",
              "    <tr>\n",
              "      <th>co-applicant_credit_type</th>\n",
              "      <td>0</td>\n",
              "    </tr>\n",
              "    <tr>\n",
              "      <th>age</th>\n",
              "      <td>200</td>\n",
              "    </tr>\n",
              "    <tr>\n",
              "      <th>submission_of_application</th>\n",
              "      <td>200</td>\n",
              "    </tr>\n",
              "    <tr>\n",
              "      <th>LTV</th>\n",
              "      <td>15098</td>\n",
              "    </tr>\n",
              "    <tr>\n",
              "      <th>Region</th>\n",
              "      <td>0</td>\n",
              "    </tr>\n",
              "    <tr>\n",
              "      <th>Security_Type</th>\n",
              "      <td>0</td>\n",
              "    </tr>\n",
              "    <tr>\n",
              "      <th>Status</th>\n",
              "      <td>0</td>\n",
              "    </tr>\n",
              "    <tr>\n",
              "      <th>dtir1</th>\n",
              "      <td>24121</td>\n",
              "    </tr>\n",
              "  </tbody>\n",
              "</table>\n",
              "</div><br><label><b>dtype:</b> int64</label>"
            ],
            "text/plain": [
              "ID                               0\n",
              "year                             0\n",
              "loan_limit                    3344\n",
              "Gender                           0\n",
              "approv_in_adv                  908\n",
              "loan_type                        0\n",
              "loan_purpose                   134\n",
              "Credit_Worthiness                0\n",
              "open_credit                      0\n",
              "business_or_commercial           0\n",
              "loan_amount                      0\n",
              "rate_of_interest             36439\n",
              "Interest_rate_spread         36639\n",
              "Upfront_charges              39642\n",
              "term                            41\n",
              "Neg_ammortization              121\n",
              "interest_only                    0\n",
              "lump_sum_payment                 0\n",
              "property_value               15098\n",
              "construction_type                0\n",
              "occupancy_type                   0\n",
              "Secured_by                       0\n",
              "total_units                      0\n",
              "income                        9150\n",
              "credit_type                      0\n",
              "Credit_Score                     0\n",
              "co-applicant_credit_type         0\n",
              "age                            200\n",
              "submission_of_application      200\n",
              "LTV                          15098\n",
              "Region                           0\n",
              "Security_Type                    0\n",
              "Status                           0\n",
              "dtir1                        24121\n",
              "dtype: int64"
            ]
          },
          "execution_count": 83,
          "metadata": {},
          "output_type": "execute_result"
        }
      ],
      "source": [
        "df.isna().sum()"
      ]
    },
    {
      "cell_type": "markdown",
      "metadata": {
        "id": "qLUyyMyF5JSX"
      },
      "source": [
        "## Splitting Dataset"
      ]
    },
    {
      "cell_type": "code",
      "execution_count": null,
      "metadata": {
        "colab": {
          "base_uri": "https://localhost:8080/"
        },
        "id": "9nFuU0qZ5ImK",
        "outputId": "8e4b621b-bc96-49b1-fb67-d649663fd7f7"
      },
      "outputs": [
        {
          "data": {
            "text/plain": [
              "((104069, 32), (44601, 32), (104069,), (44601,))"
            ]
          },
          "execution_count": 84,
          "metadata": {},
          "output_type": "execute_result"
        }
      ],
      "source": [
        "Y=df['Status']\n",
        "X=df.drop(columns=['Status','ID'])\n",
        "X_train,X_test,Y_train, Y_test = train_test_split(X,Y,test_size=0.3, random_state=42)\n",
        "\n",
        "X_train.shape, X_test.shape, Y_train.shape, Y_test.shape"
      ]
    },
    {
      "cell_type": "markdown",
      "metadata": {
        "id": "UDRnkxCy49Q9"
      },
      "source": [
        "##Imputation"
      ]
    },
    {
      "cell_type": "code",
      "execution_count": null,
      "metadata": {
        "colab": {
          "base_uri": "https://localhost:8080/"
        },
        "id": "7KOxv72s5BIX",
        "outputId": "0b3b685b-8e55-4632-f18a-62d7f70b8715"
      },
      "outputs": [
        {
          "data": {
            "text/plain": [
              "(Index(['loan_limit', 'Gender', 'approv_in_adv', 'loan_type', 'loan_purpose',\n",
              "        'Credit_Worthiness', 'open_credit', 'business_or_commercial',\n",
              "        'Neg_ammortization', 'interest_only', 'lump_sum_payment',\n",
              "        'construction_type', 'occupancy_type', 'Secured_by', 'total_units',\n",
              "        'credit_type', 'co-applicant_credit_type', 'age',\n",
              "        'submission_of_application', 'Region', 'Security_Type'],\n",
              "       dtype='object'),\n",
              " Index(['year', 'loan_amount', 'rate_of_interest', 'Interest_rate_spread',\n",
              "        'Upfront_charges', 'term', 'property_value', 'income', 'Credit_Score',\n",
              "        'LTV', 'dtir1'],\n",
              "       dtype='object'))"
            ]
          },
          "execution_count": 85,
          "metadata": {},
          "output_type": "execute_result"
        }
      ],
      "source": [
        "categorical_columns = X_train.select_dtypes(include='object').columns\n",
        "numerical_columns = X_train.select_dtypes(exclude='object').columns\n",
        "\n",
        "categorical_columns, numerical_columns"
      ]
    },
    {
      "cell_type": "code",
      "execution_count": null,
      "metadata": {
        "id": "sLYU7uWO5Y-e"
      },
      "outputs": [],
      "source": [
        "cat_imputer = SimpleImputer(strategy='most_frequent')\n",
        "X_train[categorical_columns] = cat_imputer.fit_transform(X_train[categorical_columns])\n",
        "X_test[categorical_columns] = cat_imputer.transform(X_test[categorical_columns])"
      ]
    },
    {
      "cell_type": "code",
      "execution_count": null,
      "metadata": {
        "colab": {
          "background_save": true
        },
        "id": "6qN-cDBo5xXv"
      },
      "outputs": [],
      "source": [
        "imputer = KNNImputer(n_neighbors=4)\n",
        "X_train[numerical_columns] = imputer.fit_transform(X_train[numerical_columns])\n",
        "X_test[numerical_columns] = imputer.transform(X_test[numerical_columns])"
      ]
    },
    {
      "cell_type": "code",
      "execution_count": null,
      "metadata": {
        "colab": {
          "background_save": true
        },
        "id": "AFdQUwB-59Vd",
        "outputId": "622e7723-f5f6-4644-9c95-b03a84db5000"
      },
      "outputs": [
        {
          "data": {
            "text/plain": [
              "(year                         0\n",
              " loan_limit                   0\n",
              " Gender                       0\n",
              " approv_in_adv                0\n",
              " loan_type                    0\n",
              " loan_purpose                 0\n",
              " Credit_Worthiness            0\n",
              " open_credit                  0\n",
              " business_or_commercial       0\n",
              " loan_amount                  0\n",
              " rate_of_interest             0\n",
              " Interest_rate_spread         0\n",
              " Upfront_charges              0\n",
              " term                         0\n",
              " Neg_ammortization            0\n",
              " interest_only                0\n",
              " lump_sum_payment             0\n",
              " property_value               0\n",
              " construction_type            0\n",
              " occupancy_type               0\n",
              " Secured_by                   0\n",
              " total_units                  0\n",
              " income                       0\n",
              " credit_type                  0\n",
              " Credit_Score                 0\n",
              " co-applicant_credit_type     0\n",
              " age                          0\n",
              " submission_of_application    0\n",
              " LTV                          0\n",
              " Region                       0\n",
              " Security_Type                0\n",
              " dtir1                        0\n",
              " dtype: int64,\n",
              " year                         0\n",
              " loan_limit                   0\n",
              " Gender                       0\n",
              " approv_in_adv                0\n",
              " loan_type                    0\n",
              " loan_purpose                 0\n",
              " Credit_Worthiness            0\n",
              " open_credit                  0\n",
              " business_or_commercial       0\n",
              " loan_amount                  0\n",
              " rate_of_interest             0\n",
              " Interest_rate_spread         0\n",
              " Upfront_charges              0\n",
              " term                         0\n",
              " Neg_ammortization            0\n",
              " interest_only                0\n",
              " lump_sum_payment             0\n",
              " property_value               0\n",
              " construction_type            0\n",
              " occupancy_type               0\n",
              " Secured_by                   0\n",
              " total_units                  0\n",
              " income                       0\n",
              " credit_type                  0\n",
              " Credit_Score                 0\n",
              " co-applicant_credit_type     0\n",
              " age                          0\n",
              " submission_of_application    0\n",
              " LTV                          0\n",
              " Region                       0\n",
              " Security_Type                0\n",
              " dtir1                        0\n",
              " dtype: int64)"
            ]
          },
          "execution_count": 88,
          "metadata": {},
          "output_type": "execute_result"
        }
      ],
      "source": [
        "X_train.isna().sum(), X_test.isna().sum()"
      ]
    },
    {
      "cell_type": "code",
      "execution_count": null,
      "metadata": {
        "colab": {
          "background_save": true
        },
        "id": "UJTaaR7o9aXV"
      },
      "outputs": [],
      "source": [
        "## Save imputer pickle file\n",
        "imputers= {\n",
        "    'SimpleImputer': cat_imputer,\n",
        "    'KNNImputer': imputer\n",
        "\n",
        "}\n",
        "\n",
        "\n",
        "with open('./sample_data/imputers.pickle', 'wb') as f:\n",
        "    pickle.dump(imputers, f)"
      ]
    },
    {
      "cell_type": "markdown",
      "metadata": {
        "id": "hI_xhVa7-LHv"
      },
      "source": [
        "## Encoding"
      ]
    },
    {
      "cell_type": "code",
      "execution_count": null,
      "metadata": {
        "colab": {
          "background_save": true
        },
        "id": "kC3wPgu0odIJ",
        "outputId": "efc59e72-a776-4456-86cd-547bf778629d"
      },
      "outputs": [
        {
          "data": {
            "text/plain": [
              "((104069, 32), (44601, 32), (104069,), (44601,))"
            ]
          },
          "execution_count": 90,
          "metadata": {},
          "output_type": "execute_result"
        }
      ],
      "source": [
        "X_train.shape, X_test.shape, Y_train.shape, Y_test.shape"
      ]
    },
    {
      "cell_type": "code",
      "execution_count": null,
      "metadata": {
        "colab": {
          "background_save": true
        },
        "id": "kC5yDCjz-Gpm"
      },
      "outputs": [],
      "source": [
        "scaler = StandardScaler()\n",
        "X_train[numerical_columns] = scaler.fit_transform(X_train[numerical_columns])\n",
        "X_test[numerical_columns] = scaler.transform(X_test[numerical_columns])"
      ]
    },
    {
      "cell_type": "code",
      "execution_count": null,
      "metadata": {
        "colab": {
          "background_save": true
        },
        "id": "ybY1m7N51I3J",
        "outputId": "f089b8f9-cd5f-4064-a1c2-9bf4b83ddd23"
      },
      "outputs": [
        {
          "data": {
            "text/plain": [
              "((104069, 32), (44601, 32), (104069,), (44601,))"
            ]
          },
          "execution_count": 92,
          "metadata": {},
          "output_type": "execute_result"
        }
      ],
      "source": [
        "X_train.shape, X_test.shape, Y_train.shape, Y_test.shape"
      ]
    },
    {
      "cell_type": "code",
      "execution_count": null,
      "metadata": {
        "colab": {
          "background_save": true
        },
        "id": "4pstJmV-8CQO"
      },
      "outputs": [],
      "source": [
        "\n",
        "A_train = X_train.copy()\n",
        "A_test = X_test.copy()\n",
        "B_train = Y_train.copy()\n",
        "B_test = Y_test.copy()"
      ]
    },
    {
      "cell_type": "code",
      "execution_count": 94,
      "metadata": {
        "colab": {
          "base_uri": "https://localhost:8080/"
        },
        "id": "1FKmNGXC-ibQ",
        "outputId": "03c04ff2-634e-48cc-c254-634b8566e774"
      },
      "outputs": [
        {
          "output_type": "stream",
          "name": "stderr",
          "text": [
            "/usr/local/lib/python3.10/dist-packages/sklearn/preprocessing/_encoders.py:975: FutureWarning: `sparse` was renamed to `sparse_output` in version 1.2 and will be removed in 1.4. `sparse_output` is ignored unless you leave `sparse` to its default value.\n",
            "  warnings.warn(\n",
            "/usr/local/lib/python3.10/dist-packages/sklearn/preprocessing/_encoders.py:975: FutureWarning: `sparse` was renamed to `sparse_output` in version 1.2 and will be removed in 1.4. `sparse_output` is ignored unless you leave `sparse` to its default value.\n",
            "  warnings.warn(\n",
            "/usr/local/lib/python3.10/dist-packages/sklearn/preprocessing/_encoders.py:975: FutureWarning: `sparse` was renamed to `sparse_output` in version 1.2 and will be removed in 1.4. `sparse_output` is ignored unless you leave `sparse` to its default value.\n",
            "  warnings.warn(\n",
            "/usr/local/lib/python3.10/dist-packages/sklearn/preprocessing/_encoders.py:975: FutureWarning: `sparse` was renamed to `sparse_output` in version 1.2 and will be removed in 1.4. `sparse_output` is ignored unless you leave `sparse` to its default value.\n",
            "  warnings.warn(\n",
            "/usr/local/lib/python3.10/dist-packages/sklearn/preprocessing/_encoders.py:975: FutureWarning: `sparse` was renamed to `sparse_output` in version 1.2 and will be removed in 1.4. `sparse_output` is ignored unless you leave `sparse` to its default value.\n",
            "  warnings.warn(\n",
            "/usr/local/lib/python3.10/dist-packages/sklearn/preprocessing/_encoders.py:975: FutureWarning: `sparse` was renamed to `sparse_output` in version 1.2 and will be removed in 1.4. `sparse_output` is ignored unless you leave `sparse` to its default value.\n",
            "  warnings.warn(\n",
            "/usr/local/lib/python3.10/dist-packages/sklearn/preprocessing/_encoders.py:975: FutureWarning: `sparse` was renamed to `sparse_output` in version 1.2 and will be removed in 1.4. `sparse_output` is ignored unless you leave `sparse` to its default value.\n",
            "  warnings.warn(\n",
            "/usr/local/lib/python3.10/dist-packages/sklearn/preprocessing/_encoders.py:975: FutureWarning: `sparse` was renamed to `sparse_output` in version 1.2 and will be removed in 1.4. `sparse_output` is ignored unless you leave `sparse` to its default value.\n",
            "  warnings.warn(\n",
            "/usr/local/lib/python3.10/dist-packages/sklearn/preprocessing/_encoders.py:975: FutureWarning: `sparse` was renamed to `sparse_output` in version 1.2 and will be removed in 1.4. `sparse_output` is ignored unless you leave `sparse` to its default value.\n",
            "  warnings.warn(\n",
            "/usr/local/lib/python3.10/dist-packages/sklearn/preprocessing/_encoders.py:975: FutureWarning: `sparse` was renamed to `sparse_output` in version 1.2 and will be removed in 1.4. `sparse_output` is ignored unless you leave `sparse` to its default value.\n",
            "  warnings.warn(\n",
            "/usr/local/lib/python3.10/dist-packages/sklearn/preprocessing/_encoders.py:975: FutureWarning: `sparse` was renamed to `sparse_output` in version 1.2 and will be removed in 1.4. `sparse_output` is ignored unless you leave `sparse` to its default value.\n",
            "  warnings.warn(\n",
            "/usr/local/lib/python3.10/dist-packages/sklearn/preprocessing/_encoders.py:975: FutureWarning: `sparse` was renamed to `sparse_output` in version 1.2 and will be removed in 1.4. `sparse_output` is ignored unless you leave `sparse` to its default value.\n",
            "  warnings.warn(\n",
            "/usr/local/lib/python3.10/dist-packages/sklearn/preprocessing/_encoders.py:975: FutureWarning: `sparse` was renamed to `sparse_output` in version 1.2 and will be removed in 1.4. `sparse_output` is ignored unless you leave `sparse` to its default value.\n",
            "  warnings.warn(\n",
            "/usr/local/lib/python3.10/dist-packages/sklearn/preprocessing/_encoders.py:975: FutureWarning: `sparse` was renamed to `sparse_output` in version 1.2 and will be removed in 1.4. `sparse_output` is ignored unless you leave `sparse` to its default value.\n",
            "  warnings.warn(\n",
            "/usr/local/lib/python3.10/dist-packages/sklearn/preprocessing/_encoders.py:975: FutureWarning: `sparse` was renamed to `sparse_output` in version 1.2 and will be removed in 1.4. `sparse_output` is ignored unless you leave `sparse` to its default value.\n",
            "  warnings.warn(\n",
            "/usr/local/lib/python3.10/dist-packages/sklearn/preprocessing/_encoders.py:975: FutureWarning: `sparse` was renamed to `sparse_output` in version 1.2 and will be removed in 1.4. `sparse_output` is ignored unless you leave `sparse` to its default value.\n",
            "  warnings.warn(\n",
            "/usr/local/lib/python3.10/dist-packages/sklearn/preprocessing/_encoders.py:975: FutureWarning: `sparse` was renamed to `sparse_output` in version 1.2 and will be removed in 1.4. `sparse_output` is ignored unless you leave `sparse` to its default value.\n",
            "  warnings.warn(\n",
            "/usr/local/lib/python3.10/dist-packages/sklearn/preprocessing/_encoders.py:975: FutureWarning: `sparse` was renamed to `sparse_output` in version 1.2 and will be removed in 1.4. `sparse_output` is ignored unless you leave `sparse` to its default value.\n",
            "  warnings.warn(\n",
            "/usr/local/lib/python3.10/dist-packages/sklearn/preprocessing/_encoders.py:975: FutureWarning: `sparse` was renamed to `sparse_output` in version 1.2 and will be removed in 1.4. `sparse_output` is ignored unless you leave `sparse` to its default value.\n",
            "  warnings.warn(\n",
            "/usr/local/lib/python3.10/dist-packages/sklearn/preprocessing/_encoders.py:975: FutureWarning: `sparse` was renamed to `sparse_output` in version 1.2 and will be removed in 1.4. `sparse_output` is ignored unless you leave `sparse` to its default value.\n",
            "  warnings.warn(\n",
            "/usr/local/lib/python3.10/dist-packages/sklearn/preprocessing/_encoders.py:975: FutureWarning: `sparse` was renamed to `sparse_output` in version 1.2 and will be removed in 1.4. `sparse_output` is ignored unless you leave `sparse` to its default value.\n",
            "  warnings.warn(\n"
          ]
        },
        {
          "output_type": "execute_result",
          "data": {
            "text/plain": [
              "((104069, 70), (44601, 70), (104069,), (44601,))"
            ]
          },
          "metadata": {},
          "execution_count": 94
        }
      ],
      "source": [
        "ohencoders={}\n",
        "\n",
        "for column in categorical_columns:\n",
        "  encoder = OneHotEncoder(sparse=False)\n",
        "  encoded_column = encoder.fit_transform(A_train[[column]])\n",
        "\n",
        "  column_df = pd.DataFrame(encoded_column, columns=encoder.get_feature_names_out(),index=A_train.index)\n",
        "\n",
        "  ohencoders[column] = encoder\n",
        "\n",
        "  A_train = pd.concat([A_train, column_df], axis=1)\n",
        "  A_train.drop(columns=[column], inplace=True)\n",
        "\n",
        "  train_array = encoder.transform(A_test[[column]])\n",
        "\n",
        "  test_df = pd.DataFrame(train_array, columns=encoder.get_feature_names_out(),index=A_test.index)\n",
        "\n",
        "  A_test = pd.concat([A_test, test_df], axis=1)\n",
        "  A_test.drop(columns=[column], inplace=True)\n",
        "\n",
        "A_train.shape, A_test.shape, B_train.shape, B_test.shape\n",
        "\n"
      ]
    },
    {
      "cell_type": "code",
      "execution_count": 95,
      "metadata": {
        "colab": {
          "base_uri": "https://localhost:8080/"
        },
        "id": "7AylftrhnHb2",
        "outputId": "f4a49b50-0a2d-4178-ce76-21f45a37f9a0"
      },
      "outputs": [
        {
          "output_type": "execute_result",
          "data": {
            "text/plain": [
              "{'loan_limit': OneHotEncoder(sparse=False, sparse_output=False),\n",
              " 'Gender': OneHotEncoder(sparse=False, sparse_output=False),\n",
              " 'approv_in_adv': OneHotEncoder(sparse=False, sparse_output=False),\n",
              " 'loan_type': OneHotEncoder(sparse=False, sparse_output=False),\n",
              " 'loan_purpose': OneHotEncoder(sparse=False, sparse_output=False),\n",
              " 'Credit_Worthiness': OneHotEncoder(sparse=False, sparse_output=False),\n",
              " 'open_credit': OneHotEncoder(sparse=False, sparse_output=False),\n",
              " 'business_or_commercial': OneHotEncoder(sparse=False, sparse_output=False),\n",
              " 'Neg_ammortization': OneHotEncoder(sparse=False, sparse_output=False),\n",
              " 'interest_only': OneHotEncoder(sparse=False, sparse_output=False),\n",
              " 'lump_sum_payment': OneHotEncoder(sparse=False, sparse_output=False),\n",
              " 'construction_type': OneHotEncoder(sparse=False, sparse_output=False),\n",
              " 'occupancy_type': OneHotEncoder(sparse=False, sparse_output=False),\n",
              " 'Secured_by': OneHotEncoder(sparse=False, sparse_output=False),\n",
              " 'total_units': OneHotEncoder(sparse=False, sparse_output=False),\n",
              " 'credit_type': OneHotEncoder(sparse=False, sparse_output=False),\n",
              " 'co-applicant_credit_type': OneHotEncoder(sparse=False, sparse_output=False),\n",
              " 'age': OneHotEncoder(sparse=False, sparse_output=False),\n",
              " 'submission_of_application': OneHotEncoder(sparse=False, sparse_output=False),\n",
              " 'Region': OneHotEncoder(sparse=False, sparse_output=False),\n",
              " 'Security_Type': OneHotEncoder(sparse=False, sparse_output=False)}"
            ]
          },
          "metadata": {},
          "execution_count": 95
        }
      ],
      "source": [
        "ohencoders"
      ]
    },
    {
      "cell_type": "code",
      "execution_count": 104,
      "metadata": {
        "id": "Zdb1nUkx_V4x"
      },
      "outputs": [],
      "source": [
        "encoders= {\n",
        "    'scaler': scaler,\n",
        "    'ohencoders': ohencoders\n",
        "\n",
        "}\n",
        "\n",
        "with open('./sample_data/encoders.pickle', 'wb') as f:\n",
        "    pickle.dump(encoders, f)"
      ]
    },
    {
      "cell_type": "code",
      "source": [
        "X_train = A_train\n",
        "X_test = A_test\n",
        "Y_train = B_train\n",
        "Y_test = B_test"
      ],
      "metadata": {
        "id": "AX2Am9AEC9bc"
      },
      "execution_count": 97,
      "outputs": []
    },
    {
      "cell_type": "code",
      "execution_count": 98,
      "metadata": {
        "colab": {
          "base_uri": "https://localhost:8080/"
        },
        "id": "QNxqWSydoxcQ",
        "outputId": "d87dcf59-b740-4109-9009-674721d96594"
      },
      "outputs": [
        {
          "output_type": "execute_result",
          "data": {
            "text/plain": [
              "((104069, 70), (44601, 70), (104069,), (44601,))"
            ]
          },
          "metadata": {},
          "execution_count": 98
        }
      ],
      "source": [
        "X_train.shape, X_test.shape, Y_train.shape, Y_test.shape"
      ]
    },
    {
      "cell_type": "markdown",
      "metadata": {
        "id": "QZ9p8Sf-E8aq"
      },
      "source": [
        "# **Under - Sampling**"
      ]
    },
    {
      "cell_type": "code",
      "execution_count": 99,
      "metadata": {
        "colab": {
          "base_uri": "https://localhost:8080/",
          "height": 461
        },
        "id": "u4uJ0hOC_yNr",
        "outputId": "724a055e-8e7b-46d4-f5e7-4a5e19238032"
      },
      "outputs": [
        {
          "output_type": "execute_result",
          "data": {
            "text/plain": [
              "<Axes: xlabel='Status'>"
            ]
          },
          "metadata": {},
          "execution_count": 99
        },
        {
          "output_type": "display_data",
          "data": {
            "text/plain": [
              "<Figure size 640x480 with 1 Axes>"
            ],
            "image/png": "[encoded data removed]"
          },
          "metadata": {}
        }
      ],
      "source": [
        "Y_train.value_counts().plot(kind='bar')"
      ]
    },
    {
      "cell_type": "code",
      "execution_count": 100,
      "metadata": {
        "id": "HA2oVWlpFsjf"
      },
      "outputs": [],
      "source": [
        "rus = RandomUnderSampler(sampling_strategy='majority', random_state=42)\n",
        "X_train_res, Y_train_res = rus.fit_resample(X_train, Y_train)"
      ]
    },
    {
      "cell_type": "code",
      "execution_count": 101,
      "metadata": {
        "colab": {
          "base_uri": "https://localhost:8080/",
          "height": 461
        },
        "id": "WtX6sTIRF8YM",
        "outputId": "e3de70b5-69e7-47cf-fb1a-ddcc35f932d5"
      },
      "outputs": [
        {
          "output_type": "execute_result",
          "data": {
            "text/plain": [
              "<Axes: xlabel='Status'>"
            ]
          },
          "metadata": {},
          "execution_count": 101
        },
        {
          "output_type": "display_data",
          "data": {
            "text/plain": [
              "<Figure size 640x480 with 1 Axes>"
            ],
            "image/png": "[encoded data removed]"
          },
          "metadata": {}
        }
      ],
      "source": [
        "Y_train_res.value_counts().plot(kind='bar')"
      ]
    },
    {
      "cell_type": "code",
      "execution_count": null,
      "metadata": {
        "id": "EJcBtAe4GIjn"
      },
      "outputs": [],
      "source": [
        "#mlflow.set_experiment(\"/Users/siddharth111nov@gmail.com/Loan Default DL\")"
      ]
    },
    {
      "cell_type": "code",
      "execution_count": 102,
      "metadata": {
        "colab": {
          "base_uri": "https://localhost:8080/"
        },
        "id": "C8MxW-Men4wV",
        "outputId": "9a4f7471-92d1-4685-aefb-90f6a34f3a0d"
      },
      "outputs": [
        {
          "output_type": "execute_result",
          "data": {
            "text/plain": [
              "((51450, 70), (44601, 70), (51450,), (44601,))"
            ]
          },
          "metadata": {},
          "execution_count": 102
        }
      ],
      "source": [
        "X_train_res.shape, X_test.shape, Y_train_res.shape, Y_test.shape"
      ]
    },
    {
      "cell_type": "code",
      "execution_count": 103,
      "metadata": {
        "colab": {
          "base_uri": "https://localhost:8080/"
        },
        "id": "Lma4t43xSZ_h",
        "outputId": "3b997f6c-2ccb-49a0-802e-c80e09153f48"
      },
      "outputs": [
        {
          "output_type": "stream",
          "name": "stdout",
          "text": [
            "Epoch 1/500\n"
          ]
        },
        {
          "output_type": "stream",
          "name": "stderr",
          "text": [
            "/usr/local/lib/python3.10/dist-packages/keras/src/layers/core/dense.py:87: UserWarning: Do not pass an `input_shape`/`input_dim` argument to a layer. When using Sequential models, prefer using an `Input(shape)` object as the first layer in the model instead.\n",
            "  super().__init__(activity_regularizer=activity_regularizer, **kwargs)\n"
          ]
        },
        {
          "output_type": "stream",
          "name": "stdout",
          "text": [
            "\u001b[1m1608/1608\u001b[0m \u001b[32m━━━━━━━━━━━━━━━━━━━━\u001b[0m\u001b[37m\u001b[0m \u001b[1m8s\u001b[0m 4ms/step - accuracy: 0.7815 - loss: 0.4447 - val_accuracy: 0.9068 - val_loss: 0.2416\n",
            "Epoch 2/500\n",
            "\u001b[1m1608/1608\u001b[0m \u001b[32m━━━━━━━━━━━━━━━━━━━━\u001b[0m\u001b[37m\u001b[0m \u001b[1m5s\u001b[0m 3ms/step - accuracy: 0.8742 - loss: 0.2799 - val_accuracy: 0.9084 - val_loss: 0.2361\n",
            "Epoch 3/500\n",
            "\u001b[1m1608/1608\u001b[0m \u001b[32m━━━━━━━━━━━━━━━━━━━━\u001b[0m\u001b[37m\u001b[0m \u001b[1m5s\u001b[0m 3ms/step - accuracy: 0.8848 - loss: 0.2589 - val_accuracy: 0.9205 - val_loss: 0.2179\n",
            "Epoch 4/500\n",
            "\u001b[1m1608/1608\u001b[0m \u001b[32m━━━━━━━━━━━━━━━━━━━━\u001b[0m\u001b[37m\u001b[0m \u001b[1m5s\u001b[0m 3ms/step - accuracy: 0.8941 - loss: 0.2436 - val_accuracy: 0.9183 - val_loss: 0.2223\n",
            "Epoch 5/500\n",
            "\u001b[1m1608/1608\u001b[0m \u001b[32m━━━━━━━━━━━━━━━━━━━━\u001b[0m\u001b[37m\u001b[0m \u001b[1m5s\u001b[0m 3ms/step - accuracy: 0.8979 - loss: 0.2346 - val_accuracy: 0.9034 - val_loss: 0.2584\n",
            "Epoch 6/500\n",
            "\u001b[1m1608/1608\u001b[0m \u001b[32m━━━━━━━━━━━━━━━━━━━━\u001b[0m\u001b[37m\u001b[0m \u001b[1m6s\u001b[0m 4ms/step - accuracy: 0.8994 - loss: 0.2319 - val_accuracy: 0.9081 - val_loss: 0.2454\n",
            "Epoch 7/500\n",
            "\u001b[1m1608/1608\u001b[0m \u001b[32m━━━━━━━━━━━━━━━━━━━━\u001b[0m\u001b[37m\u001b[0m \u001b[1m4s\u001b[0m 3ms/step - accuracy: 0.9027 - loss: 0.2251 - val_accuracy: 0.9100 - val_loss: 0.2427\n",
            "Epoch 8/500\n",
            "\u001b[1m1608/1608\u001b[0m \u001b[32m━━━━━━━━━━━━━━━━━━━━\u001b[0m\u001b[37m\u001b[0m \u001b[1m5s\u001b[0m 3ms/step - accuracy: 0.9043 - loss: 0.2202 - val_accuracy: 0.9250 - val_loss: 0.2123\n",
            "Epoch 9/500\n",
            "\u001b[1m1608/1608\u001b[0m \u001b[32m━━━━━━━━━━━━━━━━━━━━\u001b[0m\u001b[37m\u001b[0m \u001b[1m10s\u001b[0m 3ms/step - accuracy: 0.9053 - loss: 0.2193 - val_accuracy: 0.9236 - val_loss: 0.2115\n",
            "Epoch 10/500\n",
            "\u001b[1m1608/1608\u001b[0m \u001b[32m━━━━━━━━━━━━━━━━━━━━\u001b[0m\u001b[37m\u001b[0m \u001b[1m6s\u001b[0m 4ms/step - accuracy: 0.9061 - loss: 0.2171 - val_accuracy: 0.9231 - val_loss: 0.2248\n",
            "Epoch 11/500\n",
            "\u001b[1m1608/1608\u001b[0m \u001b[32m━━━━━━━━━━━━━━━━━━━━\u001b[0m\u001b[37m\u001b[0m \u001b[1m5s\u001b[0m 3ms/step - accuracy: 0.9091 - loss: 0.2140 - val_accuracy: 0.9167 - val_loss: 0.2343\n",
            "Epoch 12/500\n",
            "\u001b[1m1608/1608\u001b[0m \u001b[32m━━━━━━━━━━━━━━━━━━━━\u001b[0m\u001b[37m\u001b[0m \u001b[1m11s\u001b[0m 4ms/step - accuracy: 0.9080 - loss: 0.2102 - val_accuracy: 0.9128 - val_loss: 0.2418\n",
            "Epoch 13/500\n",
            "\u001b[1m1608/1608\u001b[0m \u001b[32m━━━━━━━━━━━━━━━━━━━━\u001b[0m\u001b[37m\u001b[0m \u001b[1m4s\u001b[0m 3ms/step - accuracy: 0.9072 - loss: 0.2147 - val_accuracy: 0.9136 - val_loss: 0.2422\n",
            "Epoch 14/500\n",
            "\u001b[1m1608/1608\u001b[0m \u001b[32m━━━━━━━━━━━━━━━━━━━━\u001b[0m\u001b[37m\u001b[0m \u001b[1m5s\u001b[0m 3ms/step - accuracy: 0.9058 - loss: 0.2121 - val_accuracy: 0.9246 - val_loss: 0.2169\n",
            "Epoch 15/500\n",
            "\u001b[1m1608/1608\u001b[0m \u001b[32m━━━━━━━━━━━━━━━━━━━━\u001b[0m\u001b[37m\u001b[0m \u001b[1m5s\u001b[0m 3ms/step - accuracy: 0.9118 - loss: 0.2090 - val_accuracy: 0.9101 - val_loss: 0.2466\n",
            "Epoch 16/500\n",
            "\u001b[1m1608/1608\u001b[0m \u001b[32m━━━━━━━━━━━━━━━━━━━━\u001b[0m\u001b[37m\u001b[0m \u001b[1m4s\u001b[0m 3ms/step - accuracy: 0.9111 - loss: 0.2080 - val_accuracy: 0.9176 - val_loss: 0.2332\n",
            "Epoch 17/500\n",
            "\u001b[1m1608/1608\u001b[0m \u001b[32m━━━━━━━━━━━━━━━━━━━━\u001b[0m\u001b[37m\u001b[0m \u001b[1m6s\u001b[0m 3ms/step - accuracy: 0.9118 - loss: 0.2055 - val_accuracy: 0.9152 - val_loss: 0.2406\n",
            "Epoch 18/500\n",
            "\u001b[1m1608/1608\u001b[0m \u001b[32m━━━━━━━━━━━━━━━━━━━━\u001b[0m\u001b[37m\u001b[0m \u001b[1m10s\u001b[0m 3ms/step - accuracy: 0.9152 - loss: 0.1986 - val_accuracy: 0.9142 - val_loss: 0.2442\n",
            "Epoch 19/500\n",
            "\u001b[1m1608/1608\u001b[0m \u001b[32m━━━━━━━━━━━━━━━━━━━━\u001b[0m\u001b[37m\u001b[0m \u001b[1m10s\u001b[0m 3ms/step - accuracy: 0.9120 - loss: 0.2042 - val_accuracy: 0.9268 - val_loss: 0.2214\n",
            "Epoch 20/500\n",
            "\u001b[1m1608/1608\u001b[0m \u001b[32m━━━━━━━━━━━━━━━━━━━━\u001b[0m\u001b[37m\u001b[0m \u001b[1m6s\u001b[0m 4ms/step - accuracy: 0.9114 - loss: 0.2056 - val_accuracy: 0.9187 - val_loss: 0.2419\n",
            "Epoch 21/500\n",
            "\u001b[1m1608/1608\u001b[0m \u001b[32m━━━━━━━━━━━━━━━━━━━━\u001b[0m\u001b[37m\u001b[0m \u001b[1m9s\u001b[0m 3ms/step - accuracy: 0.9164 - loss: 0.1976 - val_accuracy: 0.9225 - val_loss: 0.2367\n",
            "Epoch 22/500\n",
            "\u001b[1m1608/1608\u001b[0m \u001b[32m━━━━━━━━━━━━━━━━━━━━\u001b[0m\u001b[37m\u001b[0m \u001b[1m7s\u001b[0m 4ms/step - accuracy: 0.9127 - loss: 0.2006 - val_accuracy: 0.9092 - val_loss: 0.2585\n",
            "Epoch 23/500\n",
            "\u001b[1m1608/1608\u001b[0m \u001b[32m━━━━━━━━━━━━━━━━━━━━\u001b[0m\u001b[37m\u001b[0m \u001b[1m9s\u001b[0m 3ms/step - accuracy: 0.9136 - loss: 0.1995 - val_accuracy: 0.9156 - val_loss: 0.2527\n",
            "Epoch 24/500\n",
            "\u001b[1m1608/1608\u001b[0m \u001b[32m━━━━━━━━━━━━━━━━━━━━\u001b[0m\u001b[37m\u001b[0m \u001b[1m10s\u001b[0m 3ms/step - accuracy: 0.9131 - loss: 0.2015 - val_accuracy: 0.9178 - val_loss: 0.2441\n",
            "Epoch 25/500\n",
            "\u001b[1m1608/1608\u001b[0m \u001b[32m━━━━━━━━━━━━━━━━━━━━\u001b[0m\u001b[37m\u001b[0m \u001b[1m9s\u001b[0m 3ms/step - accuracy: 0.9146 - loss: 0.1974 - val_accuracy: 0.9178 - val_loss: 0.2442\n",
            "Epoch 26/500\n",
            "\u001b[1m1608/1608\u001b[0m \u001b[32m━━━━━━━━━━━━━━━━━━━━\u001b[0m\u001b[37m\u001b[0m \u001b[1m6s\u001b[0m 3ms/step - accuracy: 0.9150 - loss: 0.1984 - val_accuracy: 0.9218 - val_loss: 0.2402\n",
            "Epoch 27/500\n",
            "\u001b[1m1608/1608\u001b[0m \u001b[32m━━━━━━━━━━━━━━━━━━━━\u001b[0m\u001b[37m\u001b[0m \u001b[1m6s\u001b[0m 4ms/step - accuracy: 0.9168 - loss: 0.1939 - val_accuracy: 0.9251 - val_loss: 0.2362\n",
            "Epoch 28/500\n",
            "\u001b[1m1608/1608\u001b[0m \u001b[32m━━━━━━━━━━━━━━━━━━━━\u001b[0m\u001b[37m\u001b[0m \u001b[1m10s\u001b[0m 4ms/step - accuracy: 0.9137 - loss: 0.1985 - val_accuracy: 0.9191 - val_loss: 0.2513\n",
            "Epoch 29/500\n",
            "\u001b[1m1608/1608\u001b[0m \u001b[32m━━━━━━━━━━━━━━━━━━━━\u001b[0m\u001b[37m\u001b[0m \u001b[1m10s\u001b[0m 3ms/step - accuracy: 0.9158 - loss: 0.1963 - val_accuracy: 0.9148 - val_loss: 0.2579\n",
            "Epoch 30/500\n",
            "\u001b[1m1608/1608\u001b[0m \u001b[32m━━━━━━━━━━━━━━━━━━━━\u001b[0m\u001b[37m\u001b[0m \u001b[1m9s\u001b[0m 3ms/step - accuracy: 0.9190 - loss: 0.1925 - val_accuracy: 0.9192 - val_loss: 0.2451\n",
            "Epoch 31/500\n",
            "\u001b[1m1608/1608\u001b[0m \u001b[32m━━━━━━━━━━━━━━━━━━━━\u001b[0m\u001b[37m\u001b[0m \u001b[1m5s\u001b[0m 3ms/step - accuracy: 0.9170 - loss: 0.1955 - val_accuracy: 0.9229 - val_loss: 0.2431\n",
            "Epoch 32/500\n",
            "\u001b[1m1608/1608\u001b[0m \u001b[32m━━━━━━━━━━━━━━━━━━━━\u001b[0m\u001b[37m\u001b[0m \u001b[1m5s\u001b[0m 3ms/step - accuracy: 0.9158 - loss: 0.1932 - val_accuracy: 0.9278 - val_loss: 0.2317\n",
            "Epoch 33/500\n",
            "\u001b[1m1608/1608\u001b[0m \u001b[32m━━━━━━━━━━━━━━━━━━━━\u001b[0m\u001b[37m\u001b[0m \u001b[1m4s\u001b[0m 3ms/step - accuracy: 0.9163 - loss: 0.1941 - val_accuracy: 0.9210 - val_loss: 0.2477\n",
            "Epoch 34/500\n",
            "\u001b[1m1608/1608\u001b[0m \u001b[32m━━━━━━━━━━━━━━━━━━━━\u001b[0m\u001b[37m\u001b[0m \u001b[1m6s\u001b[0m 3ms/step - accuracy: 0.9178 - loss: 0.1922 - val_accuracy: 0.9215 - val_loss: 0.2539\n",
            "Epoch 35/500\n",
            "\u001b[1m1608/1608\u001b[0m \u001b[32m━━━━━━━━━━━━━━━━━━━━\u001b[0m\u001b[37m\u001b[0m \u001b[1m6s\u001b[0m 3ms/step - accuracy: 0.9192 - loss: 0.1909 - val_accuracy: 0.9217 - val_loss: 0.2516\n",
            "Epoch 36/500\n",
            "\u001b[1m1608/1608\u001b[0m \u001b[32m━━━━━━━━━━━━━━━━━━━━\u001b[0m\u001b[37m\u001b[0m \u001b[1m4s\u001b[0m 3ms/step - accuracy: 0.9158 - loss: 0.1946 - val_accuracy: 0.9257 - val_loss: 0.2423\n",
            "Epoch 37/500\n",
            "\u001b[1m1608/1608\u001b[0m \u001b[32m━━━━━━━━━━━━━━━━━━━━\u001b[0m\u001b[37m\u001b[0m \u001b[1m6s\u001b[0m 4ms/step - accuracy: 0.9191 - loss: 0.1915 - val_accuracy: 0.9220 - val_loss: 0.2583\n",
            "Epoch 38/500\n",
            "\u001b[1m1608/1608\u001b[0m \u001b[32m━━━━━━━━━━━━━━━━━━━━\u001b[0m\u001b[37m\u001b[0m \u001b[1m4s\u001b[0m 3ms/step - accuracy: 0.9164 - loss: 0.1958 - val_accuracy: 0.9109 - val_loss: 0.2749\n",
            "Epoch 39/500\n",
            "\u001b[1m1608/1608\u001b[0m \u001b[32m━━━━━━━━━━━━━━━━━━━━\u001b[0m\u001b[37m\u001b[0m \u001b[1m4s\u001b[0m 3ms/step - accuracy: 0.9176 - loss: 0.1900 - val_accuracy: 0.9224 - val_loss: 0.2509\n",
            "Epoch 40/500\n",
            "\u001b[1m1608/1608\u001b[0m \u001b[32m━━━━━━━━━━━━━━━━━━━━\u001b[0m\u001b[37m\u001b[0m \u001b[1m8s\u001b[0m 4ms/step - accuracy: 0.9191 - loss: 0.1865 - val_accuracy: 0.9074 - val_loss: 0.2817\n",
            "Epoch 41/500\n",
            "\u001b[1m1608/1608\u001b[0m \u001b[32m━━━━━━━━━━━━━━━━━━━━\u001b[0m\u001b[37m\u001b[0m \u001b[1m10s\u001b[0m 4ms/step - accuracy: 0.9178 - loss: 0.1899 - val_accuracy: 0.9129 - val_loss: 0.2692\n",
            "Epoch 42/500\n",
            "\u001b[1m1608/1608\u001b[0m \u001b[32m━━━━━━━━━━━━━━━━━━━━\u001b[0m\u001b[37m\u001b[0m \u001b[1m5s\u001b[0m 3ms/step - accuracy: 0.9177 - loss: 0.1906 - val_accuracy: 0.9250 - val_loss: 0.2468\n",
            "Epoch 43/500\n",
            "\u001b[1m1608/1608\u001b[0m \u001b[32m━━━━━━━━━━━━━━━━━━━━\u001b[0m\u001b[37m\u001b[0m \u001b[1m6s\u001b[0m 3ms/step - accuracy: 0.9184 - loss: 0.1905 - val_accuracy: 0.9187 - val_loss: 0.2667\n",
            "Epoch 44/500\n",
            "\u001b[1m1608/1608\u001b[0m \u001b[32m━━━━━━━━━━━━━━━━━━━━\u001b[0m\u001b[37m\u001b[0m \u001b[1m6s\u001b[0m 4ms/step - accuracy: 0.9223 - loss: 0.1851 - val_accuracy: 0.9172 - val_loss: 0.2680\n",
            "Epoch 45/500\n",
            "\u001b[1m1608/1608\u001b[0m \u001b[32m━━━━━━━━━━━━━━━━━━━━\u001b[0m\u001b[37m\u001b[0m \u001b[1m4s\u001b[0m 3ms/step - accuracy: 0.9184 - loss: 0.1880 - val_accuracy: 0.9215 - val_loss: 0.2671\n",
            "Epoch 46/500\n",
            "\u001b[1m1608/1608\u001b[0m \u001b[32m━━━━━━━━━━━━━━━━━━━━\u001b[0m\u001b[37m\u001b[0m \u001b[1m5s\u001b[0m 3ms/step - accuracy: 0.9174 - loss: 0.1898 - val_accuracy: 0.9233 - val_loss: 0.2661\n",
            "Epoch 47/500\n",
            "\u001b[1m1608/1608\u001b[0m \u001b[32m━━━━━━━━━━━━━━━━━━━━\u001b[0m\u001b[37m\u001b[0m \u001b[1m5s\u001b[0m 3ms/step - accuracy: 0.9192 - loss: 0.1858 - val_accuracy: 0.9187 - val_loss: 0.2757\n",
            "Epoch 48/500\n",
            "\u001b[1m1608/1608\u001b[0m \u001b[32m━━━━━━━━━━━━━━━━━━━━\u001b[0m\u001b[37m\u001b[0m \u001b[1m4s\u001b[0m 3ms/step - accuracy: 0.9195 - loss: 0.1865 - val_accuracy: 0.9234 - val_loss: 0.2604\n",
            "Epoch 49/500\n",
            "\u001b[1m1608/1608\u001b[0m \u001b[32m━━━━━━━━━━━━━━━━━━━━\u001b[0m\u001b[37m\u001b[0m \u001b[1m6s\u001b[0m 4ms/step - accuracy: 0.9204 - loss: 0.1840 - val_accuracy: 0.9189 - val_loss: 0.2698\n",
            "Epoch 50/500\n",
            "\u001b[1m1608/1608\u001b[0m \u001b[32m━━━━━━━━━━━━━━━━━━━━\u001b[0m\u001b[37m\u001b[0m \u001b[1m6s\u001b[0m 3ms/step - accuracy: 0.9200 - loss: 0.1851 - val_accuracy: 0.9173 - val_loss: 0.2714\n",
            "Epoch 51/500\n",
            "\u001b[1m1608/1608\u001b[0m \u001b[32m━━━━━━━━━━━━━━━━━━━━\u001b[0m\u001b[37m\u001b[0m \u001b[1m11s\u001b[0m 4ms/step - accuracy: 0.9198 - loss: 0.1860 - val_accuracy: 0.9224 - val_loss: 0.2649\n",
            "Epoch 52/500\n",
            "\u001b[1m1608/1608\u001b[0m \u001b[32m━━━━━━━━━━━━━━━━━━━━\u001b[0m\u001b[37m\u001b[0m \u001b[1m4s\u001b[0m 3ms/step - accuracy: 0.9199 - loss: 0.1867 - val_accuracy: 0.9218 - val_loss: 0.2669\n",
            "Epoch 53/500\n",
            "\u001b[1m1608/1608\u001b[0m \u001b[32m━━━━━━━━━━━━━━━━━━━━\u001b[0m\u001b[37m\u001b[0m \u001b[1m6s\u001b[0m 3ms/step - accuracy: 0.9218 - loss: 0.1806 - val_accuracy: 0.9252 - val_loss: 0.2543\n",
            "Epoch 54/500\n",
            "\u001b[1m1608/1608\u001b[0m \u001b[32m━━━━━━━━━━━━━━━━━━━━\u001b[0m\u001b[37m\u001b[0m \u001b[1m9s\u001b[0m 3ms/step - accuracy: 0.9220 - loss: 0.1823 - val_accuracy: 0.9226 - val_loss: 0.2564\n",
            "Epoch 55/500\n",
            "\u001b[1m1608/1608\u001b[0m \u001b[32m━━━━━━━━━━━━━━━━━━━━\u001b[0m\u001b[37m\u001b[0m \u001b[1m7s\u001b[0m 4ms/step - accuracy: 0.9184 - loss: 0.1870 - val_accuracy: 0.9178 - val_loss: 0.2689\n",
            "Epoch 56/500\n",
            "\u001b[1m1608/1608\u001b[0m \u001b[32m━━━━━━━━━━━━━━━━━━━━\u001b[0m\u001b[37m\u001b[0m \u001b[1m9s\u001b[0m 3ms/step - accuracy: 0.9212 - loss: 0.1827 - val_accuracy: 0.9239 - val_loss: 0.2502\n",
            "Epoch 57/500\n",
            "\u001b[1m1608/1608\u001b[0m \u001b[32m━━━━━━━━━━━━━━━━━━━━\u001b[0m\u001b[37m\u001b[0m \u001b[1m8s\u001b[0m 4ms/step - accuracy: 0.9176 - loss: 0.1866 - val_accuracy: 0.9168 - val_loss: 0.2718\n",
            "Epoch 58/500\n",
            "\u001b[1m1608/1608\u001b[0m \u001b[32m━━━━━━━━━━━━━━━━━━━━\u001b[0m\u001b[37m\u001b[0m \u001b[1m5s\u001b[0m 3ms/step - accuracy: 0.9198 - loss: 0.1840 - val_accuracy: 0.9224 - val_loss: 0.2635\n"
          ]
        },
        {
          "output_type": "stream",
          "name": "stderr",
          "text": [
            "WARNING:absl:You are saving your model as an HDF5 file via `model.save()` or `keras.saving.save_model(model)`. This file format is considered legacy. We recommend using instead the native Keras format, e.g. `model.save('my_model.keras')` or `keras.saving.save_model(model, 'my_model.keras')`. \n"
          ]
        },
        {
          "output_type": "stream",
          "name": "stdout",
          "text": [
            "[0.8313897252082825, 0.8786394596099854, 0.8874247074127197, 0.8927502632141113, 0.8954130411148071, 0.8987172245979309, 0.9018464684486389, 0.9030320644378662, 0.9040816426277161, 0.9059280753135681, 0.9071720242500305, 0.9064723253250122, 0.9079883098602295, 0.9082993268966675, 0.9099125266075134, 0.911078691482544, 0.9104762077331543, 0.9130417704582214, 0.9119922518730164, 0.912108838558197, 0.913080632686615, 0.911953330039978, 0.9131972789764404, 0.9128279685974121, 0.9153352975845337, 0.914363443851471, 0.915393590927124, 0.9141107797622681, 0.915723979473114, 0.916365385055542, 0.9164237380027771, 0.916190505027771, 0.9153741598129272, 0.9162099361419678, 0.9172983765602112, 0.9164042472839355, 0.9169873595237732, 0.9174343943595886, 0.9174149632453918, 0.9178231358528137, 0.9170456528663635, 0.9179592132568359, 0.9171040058135986, 0.920136034488678, 0.9172400236129761, 0.9182118773460388, 0.9179980754852295, 0.9182507395744324, 0.9183478951454163, 0.9183867573738098, 0.9186199903488159, 0.9199028015136719, 0.9205830693244934, 0.9206802845001221, 0.9192419648170471, 0.9192225337028503, 0.918192446231842, 0.9196889996528625]\n",
            "[0.9068182110786438, 0.9084101319313049, 0.920539915561676, 0.9183202385902405, 0.9034326672554016, 0.9080513715744019, 0.9099571704864502, 0.9250240921974182, 0.9235667586326599, 0.9230958819389343, 0.9166610836982727, 0.9128046631813049, 0.913589358329773, 0.9245980978012085, 0.9101365208625793, 0.9176476001739502, 0.9151812791824341, 0.914172351360321, 0.926817774772644, 0.9186565279960632, 0.9224681258201599, 0.9092172980308533, 0.9155624508857727, 0.9177821278572083, 0.9177597165107727, 0.9217506051063538, 0.9250689148902893, 0.919127345085144, 0.9148001074790955, 0.9191946387290955, 0.9228717088699341, 0.9277594685554504, 0.9210107326507568, 0.921504020690918, 0.9217057824134827, 0.9256967306137085, 0.9219972491264343, 0.9108988642692566, 0.922423243522644, 0.9074012041091919, 0.9128718972206116, 0.9250465035438538, 0.9187238216400146, 0.9171543121337891, 0.9214816093444824, 0.9232977032661438, 0.9187462329864502, 0.9234322309494019, 0.9189255833625793, 0.9172664284706116, 0.9224457144737244, 0.9217730760574341, 0.9252034425735474, 0.922602653503418, 0.9177821278572083, 0.9239254593849182, 0.9167956113815308, 0.9224008321762085]\n",
            "[0.3617808520793915, 0.27288562059402466, 0.25663796067237854, 0.24489538371562958, 0.23871544003486633, 0.23209138214588165, 0.22732485830783844, 0.22427740693092346, 0.22138802707195282, 0.21838413178920746, 0.21704082190990448, 0.2135477364063263, 0.21310223639011383, 0.21145151555538177, 0.2106470763683319, 0.2087179273366928, 0.20787392556667328, 0.20401014387607574, 0.20464429259300232, 0.20358136296272278, 0.2032386213541031, 0.20241162180900574, 0.20184701681137085, 0.20161867141723633, 0.1998642086982727, 0.19863834977149963, 0.19770066440105438, 0.19715067744255066, 0.19624772667884827, 0.19569988548755646, 0.19625233113765717, 0.19444540143013, 0.19613146781921387, 0.19468499720096588, 0.19399918615818024, 0.19482749700546265, 0.19366037845611572, 0.19182589650154114, 0.1925899237394333, 0.1916472315788269, 0.19168560206890106, 0.19083034992218018, 0.19175732135772705, 0.18851977586746216, 0.19038446247577667, 0.1901295781135559, 0.18754154443740845, 0.18841923773288727, 0.1888665109872818, 0.18796907365322113, 0.18862074613571167, 0.18825069069862366, 0.18576720356941223, 0.1868414282798767, 0.18580277264118195, 0.18726468086242676, 0.1874765008687973, 0.18607237935066223]\n",
            "[0.24156872928142548, 0.2361333668231964, 0.21794454753398895, 0.22229063510894775, 0.25841161608695984, 0.24537676572799683, 0.24268978834152222, 0.21225716173648834, 0.21147753298282623, 0.22484150528907776, 0.23434412479400635, 0.2417595237493515, 0.24222546815872192, 0.21688029170036316, 0.24658526480197906, 0.23322927951812744, 0.2406259924173355, 0.24419482052326202, 0.2214253544807434, 0.24185810983181, 0.23669514060020447, 0.25852730870246887, 0.25270605087280273, 0.24410559237003326, 0.24421782791614532, 0.24018026888370514, 0.2361535131931305, 0.2513417899608612, 0.25789761543273926, 0.24512885510921478, 0.24305379390716553, 0.23172323405742645, 0.24768903851509094, 0.2538613975048065, 0.25159183144569397, 0.24231159687042236, 0.2583337426185608, 0.2749306559562683, 0.25094911456108093, 0.2817365527153015, 0.26916706562042236, 0.24680209159851074, 0.266705721616745, 0.2679622769355774, 0.2670872211456299, 0.26607581973075867, 0.275704026222229, 0.2604498267173767, 0.26979824900627136, 0.271353542804718, 0.26494303345680237, 0.2668760120868683, 0.25432875752449036, 0.2564190626144409, 0.268907368183136, 0.2502461373806, 0.27179425954818726, 0.2634970247745514]\n"
          ]
        }
      ],
      "source": [
        "#with mlflow.start_run():\n",
        "model = tf.keras.Sequential()\n",
        "model.add(layers.Dense(64, activation='relu',input_shape=(X_train.shape[1],)))\n",
        "model.add(layers.Dropout(rate=0.2))\n",
        "model.add(layers.Dense(64, activation='relu'))\n",
        "model.add(layers.Dropout(rate=0.2))\n",
        "model.add(layers.Dense(1, activation='sigmoid'))\n",
        "\n",
        "model.compile(optimizer='adam', loss=losses.BinaryCrossentropy(), metrics=['accuracy'])\n",
        "\n",
        "\n",
        "early_stopping = EarlyStopping(monitor='val_loss',patience=50,min_delta=0.001,mode='min')\n",
        "\n",
        "history = model.fit(X_train_res,Y_train_res,epochs=500,validation_data=(X_test,Y_test),callbacks=[early_stopping],verbose=1)\n",
        "\n",
        "# model.summary =[]\n",
        "# model.summary(print_fn=lambda x: mlflow.log_text(x, \"model_summary.txt\"))\n",
        "\n",
        "hyperparameters = {\n",
        "  \"optimizer\": model.optimizer.__class__.__name__,\n",
        "  \"loss\": model.loss.__class__.__name__,\n",
        "  \"activation\": [layer.activation.__name__ for layer in model.layers if hasattr(layer, \"activation\")],\n",
        "\n",
        "}\n",
        "\n",
        "#mlflow.log_params(hyperparameters)\n",
        "\n",
        "history_dict=history.history\n",
        "\n",
        "print(history_dict['accuracy'])\n",
        "print(history_dict['val_accuracy'])\n",
        "print(history_dict['loss'])\n",
        "print(history_dict['val_loss'])\n",
        "\n",
        "# mlflow.log_metric(\"accuracy\",history_dict['accuracy'][-1])\n",
        "# mlflow.log_metric(\"val_accuracy\",history_dict['val_accuracy'][-1])\n",
        "# mlflow.log_metric(\"loss\",history_dict['loss'][-1])\n",
        "# mlflow.log_metric(\"val_loss\",history_dict['val_loss'][-1])\n",
        "\n",
        "# mlflow.keras.log_model(model, \"model\")\n",
        "\n",
        "model.save(\"./sample_data/model.h5\")\n",
        "# mlflow.log_artifact(\"model.h5\")\n",
        "\n",
        "# mlflow.log_artifact(\"imputers.pickle\")\n",
        "# mlflow.log_artifact(\"encoder.pickle\")\n",
        "\n",
        "\n",
        "# for layer in model.layers:\n",
        "#   if isinstance(layer, tf.keras.layers.Dropout):\n",
        "#       mlflow.log_param(f\"dropout_rate_{layer.name}\", layer.rate)\n",
        "\n",
        "\n",
        "\n",
        "\n"
      ]
    }
  ],
  "metadata": {
    "colab": {
      "provenance": [],
      "authorship_tag": "ABX9TyMAJdUTfIvcNOQNpjPz3OGh",
      "include_colab_link": true
    },
    "kernelspec": {
      "display_name": "Python 3",
      "name": "python3"
    },
    "language_info": {
      "name": "python"
    }
  },
  "nbformat": 4,
  "nbformat_minor": 0
}